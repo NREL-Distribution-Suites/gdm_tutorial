{
 "cells": [
  {
   "cell_type": "markdown",
   "metadata": {},
   "source": []
  },
  {
   "cell_type": "markdown",
   "metadata": {},
   "source": [
    "# SHIFT\n",
    "\n",
    "Python package for developing power distribution model using opensource data. This package uses Grid Data Models to represent power distribution components and Ditto for writing case files specific to simulators such as OpenDSS, Cyme, Synergi and others.\n",
    "\n",
    "Primarily this package will leverage open street parcels, road network to build out distribution model.\n",
    "\n",
    "For model conversion. We will need to install DiTto. To do that, use the command below"
   ]
  },
  {
   "cell_type": "code",
   "execution_count": 1,
   "metadata": {
    "vscode": {
     "languageId": "shellscript"
    }
   },
   "outputs": [
    {
     "name": "stdout",
     "output_type": "stream",
     "text": [
      "Requirement already satisfied: nrel-shift in /opt/homebrew/Caskroom/miniconda/base/envs/gdm2/lib/python3.12/site-packages (0.3.0)\n",
      "Requirement already satisfied: geopy in /opt/homebrew/Caskroom/miniconda/base/envs/gdm2/lib/python3.12/site-packages (from nrel-shift) (2.4.1)\n",
      "Requirement already satisfied: grid-data-models~=2.0.0 in /opt/homebrew/Caskroom/miniconda/base/envs/gdm2/lib/python3.12/site-packages (from nrel-shift) (2.0.0)\n",
      "Requirement already satisfied: importlib-metadata in /opt/homebrew/Caskroom/miniconda/base/envs/gdm2/lib/python3.12/site-packages (from nrel-shift) (8.6.1)\n",
      "Requirement already satisfied: osmnx in /opt/homebrew/Caskroom/miniconda/base/envs/gdm2/lib/python3.12/site-packages (from nrel-shift) (2.0.2)\n",
      "Requirement already satisfied: plotly in /opt/homebrew/Caskroom/miniconda/base/envs/gdm2/lib/python3.12/site-packages (from nrel-shift) (6.0.1)\n",
      "Requirement already satisfied: scikit-learn in /opt/homebrew/Caskroom/miniconda/base/envs/gdm2/lib/python3.12/site-packages (from nrel-shift) (1.6.1)\n",
      "Requirement already satisfied: click~=8.1.7 in /opt/homebrew/Caskroom/miniconda/base/envs/gdm2/lib/python3.12/site-packages (from grid-data-models~=2.0.0->nrel-shift) (8.1.8)\n",
      "Requirement already satisfied: geopandas in /opt/homebrew/Caskroom/miniconda/base/envs/gdm2/lib/python3.12/site-packages (from grid-data-models~=2.0.0->nrel-shift) (1.0.1)\n",
      "Requirement already satisfied: infrasys~=0.4.0 in /opt/homebrew/Caskroom/miniconda/base/envs/gdm2/lib/python3.12/site-packages (from grid-data-models~=2.0.0->nrel-shift) (0.4.0)\n",
      "Requirement already satisfied: networkx in /opt/homebrew/Caskroom/miniconda/base/envs/gdm2/lib/python3.12/site-packages (from grid-data-models~=2.0.0->nrel-shift) (3.4.2)\n",
      "Requirement already satisfied: pandas~=2.2.3 in /opt/homebrew/Caskroom/miniconda/base/envs/gdm2/lib/python3.12/site-packages (from grid-data-models~=2.0.0->nrel-shift) (2.2.3)\n",
      "Requirement already satisfied: pydantic~=2.10.6 in /opt/homebrew/Caskroom/miniconda/base/envs/gdm2/lib/python3.12/site-packages (from grid-data-models~=2.0.0->nrel-shift) (2.10.6)\n",
      "Requirement already satisfied: geographiclib<3,>=1.52 in /opt/homebrew/Caskroom/miniconda/base/envs/gdm2/lib/python3.12/site-packages (from geopy->nrel-shift) (2.0)\n",
      "Requirement already satisfied: zipp>=3.20 in /opt/homebrew/Caskroom/miniconda/base/envs/gdm2/lib/python3.12/site-packages (from importlib-metadata->nrel-shift) (3.21.0)\n",
      "Requirement already satisfied: numpy>=1.22 in /opt/homebrew/Caskroom/miniconda/base/envs/gdm2/lib/python3.12/site-packages (from osmnx->nrel-shift) (2.2.5)\n",
      "Requirement already satisfied: requests>=2.27 in /opt/homebrew/Caskroom/miniconda/base/envs/gdm2/lib/python3.12/site-packages (from osmnx->nrel-shift) (2.32.3)\n",
      "Requirement already satisfied: shapely>=2.0 in /opt/homebrew/Caskroom/miniconda/base/envs/gdm2/lib/python3.12/site-packages (from osmnx->nrel-shift) (2.1.0)\n",
      "Requirement already satisfied: narwhals>=1.15.1 in /opt/homebrew/Caskroom/miniconda/base/envs/gdm2/lib/python3.12/site-packages (from plotly->nrel-shift) (1.36.0)\n",
      "Requirement already satisfied: packaging in /opt/homebrew/Caskroom/miniconda/base/envs/gdm2/lib/python3.12/site-packages (from plotly->nrel-shift) (25.0)\n",
      "Requirement already satisfied: scipy>=1.6.0 in /opt/homebrew/Caskroom/miniconda/base/envs/gdm2/lib/python3.12/site-packages (from scikit-learn->nrel-shift) (1.15.2)\n",
      "Requirement already satisfied: joblib>=1.2.0 in /opt/homebrew/Caskroom/miniconda/base/envs/gdm2/lib/python3.12/site-packages (from scikit-learn->nrel-shift) (1.4.2)\n",
      "Requirement already satisfied: threadpoolctl>=3.1.0 in /opt/homebrew/Caskroom/miniconda/base/envs/gdm2/lib/python3.12/site-packages (from scikit-learn->nrel-shift) (3.6.0)\n",
      "Requirement already satisfied: pyogrio>=0.7.2 in /opt/homebrew/Caskroom/miniconda/base/envs/gdm2/lib/python3.12/site-packages (from geopandas->grid-data-models~=2.0.0->nrel-shift) (0.10.0)\n",
      "Requirement already satisfied: pyproj>=3.3.0 in /opt/homebrew/Caskroom/miniconda/base/envs/gdm2/lib/python3.12/site-packages (from geopandas->grid-data-models~=2.0.0->nrel-shift) (3.7.1)\n",
      "Requirement already satisfied: loguru~=0.7.2 in /opt/homebrew/Caskroom/miniconda/base/envs/gdm2/lib/python3.12/site-packages (from infrasys~=0.4.0->grid-data-models~=2.0.0->nrel-shift) (0.7.3)\n",
      "Requirement already satisfied: pint~=0.23 in /opt/homebrew/Caskroom/miniconda/base/envs/gdm2/lib/python3.12/site-packages (from infrasys~=0.4.0->grid-data-models~=2.0.0->nrel-shift) (0.24.4)\n",
      "Requirement already satisfied: pyarrow~=19.0 in /opt/homebrew/Caskroom/miniconda/base/envs/gdm2/lib/python3.12/site-packages (from infrasys~=0.4.0->grid-data-models~=2.0.0->nrel-shift) (19.0.1)\n",
      "Requirement already satisfied: rich~=13.7.1 in /opt/homebrew/Caskroom/miniconda/base/envs/gdm2/lib/python3.12/site-packages (from infrasys~=0.4.0->grid-data-models~=2.0.0->nrel-shift) (13.7.1)\n",
      "Requirement already satisfied: python-dateutil>=2.8.2 in /opt/homebrew/Caskroom/miniconda/base/envs/gdm2/lib/python3.12/site-packages (from pandas~=2.2.3->grid-data-models~=2.0.0->nrel-shift) (2.9.0.post0)\n",
      "Requirement already satisfied: pytz>=2020.1 in /opt/homebrew/Caskroom/miniconda/base/envs/gdm2/lib/python3.12/site-packages (from pandas~=2.2.3->grid-data-models~=2.0.0->nrel-shift) (2025.2)\n",
      "Requirement already satisfied: tzdata>=2022.7 in /opt/homebrew/Caskroom/miniconda/base/envs/gdm2/lib/python3.12/site-packages (from pandas~=2.2.3->grid-data-models~=2.0.0->nrel-shift) (2025.2)\n",
      "Requirement already satisfied: annotated-types>=0.6.0 in /opt/homebrew/Caskroom/miniconda/base/envs/gdm2/lib/python3.12/site-packages (from pydantic~=2.10.6->grid-data-models~=2.0.0->nrel-shift) (0.7.0)\n",
      "Requirement already satisfied: pydantic-core==2.27.2 in /opt/homebrew/Caskroom/miniconda/base/envs/gdm2/lib/python3.12/site-packages (from pydantic~=2.10.6->grid-data-models~=2.0.0->nrel-shift) (2.27.2)\n",
      "Requirement already satisfied: typing-extensions>=4.12.2 in /opt/homebrew/Caskroom/miniconda/base/envs/gdm2/lib/python3.12/site-packages (from pydantic~=2.10.6->grid-data-models~=2.0.0->nrel-shift) (4.13.2)\n",
      "Requirement already satisfied: charset-normalizer<4,>=2 in /opt/homebrew/Caskroom/miniconda/base/envs/gdm2/lib/python3.12/site-packages (from requests>=2.27->osmnx->nrel-shift) (3.4.1)\n",
      "Requirement already satisfied: idna<4,>=2.5 in /opt/homebrew/Caskroom/miniconda/base/envs/gdm2/lib/python3.12/site-packages (from requests>=2.27->osmnx->nrel-shift) (3.10)\n",
      "Requirement already satisfied: urllib3<3,>=1.21.1 in /opt/homebrew/Caskroom/miniconda/base/envs/gdm2/lib/python3.12/site-packages (from requests>=2.27->osmnx->nrel-shift) (2.4.0)\n",
      "Requirement already satisfied: certifi>=2017.4.17 in /opt/homebrew/Caskroom/miniconda/base/envs/gdm2/lib/python3.12/site-packages (from requests>=2.27->osmnx->nrel-shift) (2025.1.31)\n",
      "Requirement already satisfied: platformdirs>=2.1.0 in /opt/homebrew/Caskroom/miniconda/base/envs/gdm2/lib/python3.12/site-packages (from pint~=0.23->infrasys~=0.4.0->grid-data-models~=2.0.0->nrel-shift) (4.3.7)\n",
      "Requirement already satisfied: flexcache>=0.3 in /opt/homebrew/Caskroom/miniconda/base/envs/gdm2/lib/python3.12/site-packages (from pint~=0.23->infrasys~=0.4.0->grid-data-models~=2.0.0->nrel-shift) (0.3)\n",
      "Requirement already satisfied: flexparser>=0.4 in /opt/homebrew/Caskroom/miniconda/base/envs/gdm2/lib/python3.12/site-packages (from pint~=0.23->infrasys~=0.4.0->grid-data-models~=2.0.0->nrel-shift) (0.4)\n",
      "Requirement already satisfied: six>=1.5 in /opt/homebrew/Caskroom/miniconda/base/envs/gdm2/lib/python3.12/site-packages (from python-dateutil>=2.8.2->pandas~=2.2.3->grid-data-models~=2.0.0->nrel-shift) (1.17.0)\n",
      "Requirement already satisfied: markdown-it-py>=2.2.0 in /opt/homebrew/Caskroom/miniconda/base/envs/gdm2/lib/python3.12/site-packages (from rich~=13.7.1->infrasys~=0.4.0->grid-data-models~=2.0.0->nrel-shift) (3.0.0)\n",
      "Requirement already satisfied: pygments<3.0.0,>=2.13.0 in /opt/homebrew/Caskroom/miniconda/base/envs/gdm2/lib/python3.12/site-packages (from rich~=13.7.1->infrasys~=0.4.0->grid-data-models~=2.0.0->nrel-shift) (2.19.1)\n",
      "Requirement already satisfied: mdurl~=0.1 in /opt/homebrew/Caskroom/miniconda/base/envs/gdm2/lib/python3.12/site-packages (from markdown-it-py>=2.2.0->rich~=13.7.1->infrasys~=0.4.0->grid-data-models~=2.0.0->nrel-shift) (0.1.2)\n",
      "Note: you may need to restart the kernel to use updated packages.\n"
     ]
    }
   ],
   "source": [
    "pip install nrel-shift"
   ]
  },
  {
   "cell_type": "markdown",
   "metadata": {},
   "source": []
  },
  {
   "cell_type": "markdown",
   "metadata": {},
   "source": [
    "We start by loading a sample GDM system using the gdmloader."
   ]
  },
  {
   "cell_type": "code",
   "execution_count": 1,
   "metadata": {},
   "outputs": [
    {
     "name": "stderr",
     "output_type": "stream",
     "text": [
      "/opt/homebrew/Caskroom/miniconda/base/envs/gdm2/lib/python3.12/site-packages/pydantic/_internal/_generate_schema.py:502: UserWarning: Ellipsis is not a Python type (it may be an instance of an object), Pydantic will allow any object with no validation since we cannot even enforce that the input is an instance of the given type. To get rid of this error wrap the type with `pydantic.SkipValidation`.\n",
      "  warn(\n"
     ]
    },
    {
     "data": {
      "text/html": [
       "<pre style=\"white-space:pre;overflow-x:auto;line-height:normal;font-family:Menlo,'DejaVu Sans Mono',consolas,'Courier New',monospace\"><span style=\"font-weight: bold\">System                          </span>\n",
       "┏━━━━━━━━━━━━━━━━━━━━━━┳━━━━━━━┓\n",
       "┃<span style=\"font-weight: bold\"> Property             </span>┃<span style=\"font-weight: bold\"> Value </span>┃\n",
       "┡━━━━━━━━━━━━━━━━━━━━━━╇━━━━━━━┩\n",
       "│ System name          │       │\n",
       "│ Data format version  │ 2.0.0 │\n",
       "│ Components attached  │ 13370 │\n",
       "│ Time Series attached │     0 │\n",
       "│ Description          │       │\n",
       "└──────────────────────┴───────┘\n",
       "</pre>\n"
      ],
      "text/plain": [
       "\u001b[1mSystem                          \u001b[0m\n",
       "┏━━━━━━━━━━━━━━━━━━━━━━┳━━━━━━━┓\n",
       "┃\u001b[1m \u001b[0m\u001b[1mProperty            \u001b[0m\u001b[1m \u001b[0m┃\u001b[1m \u001b[0m\u001b[1mValue\u001b[0m\u001b[1m \u001b[0m┃\n",
       "┡━━━━━━━━━━━━━━━━━━━━━━╇━━━━━━━┩\n",
       "│ System name          │       │\n",
       "│ Data format version  │ 2.0.0 │\n",
       "│ Components attached  │ 13370 │\n",
       "│ Time Series attached │     0 │\n",
       "│ Description          │       │\n",
       "└──────────────────────┴───────┘\n"
      ]
     },
     "metadata": {},
     "output_type": "display_data"
    },
    {
     "data": {
      "text/html": [
       "<pre style=\"white-space:pre;overflow-x:auto;line-height:normal;font-family:Menlo,'DejaVu Sans Mono',consolas,'Courier New',monospace\"><span style=\"font-weight: bold\">Component Information                       </span>\n",
       "┏━━━━━━━━━━━━━━━━━━━━━━━━━━━━━━━━━━┳━━━━━━━┓\n",
       "┃<span style=\"font-weight: bold\"> Type                             </span>┃<span style=\"font-weight: bold\"> Count </span>┃\n",
       "┡━━━━━━━━━━━━━━━━━━━━━━━━━━━━━━━━━━╇━━━━━━━┩\n",
       "│ DistributionBus                  │  2510 │\n",
       "│ DistributionLoad                 │  1896 │\n",
       "│ DistributionTransformer          │   503 │\n",
       "│ DistributionTransformerEquipment │    10 │\n",
       "│ DistributionVoltageSource        │     1 │\n",
       "│ LoadEquipment                    │  1896 │\n",
       "│ Location                         │  2510 │\n",
       "│ MatrixImpedanceBranch            │  1841 │\n",
       "│ MatrixImpedanceBranchEquipment   │    38 │\n",
       "│ MatrixImpedanceFuse              │    81 │\n",
       "│ MatrixImpedanceFuseEquipment     │     6 │\n",
       "│ MatrixImpedanceSwitch            │    84 │\n",
       "│ MatrixImpedanceSwitchEquipment   │    15 │\n",
       "│ PhaseLoadEquipment               │  1948 │\n",
       "│ PhaseVoltageSourceEquipment      │     3 │\n",
       "│ TimeCurrentCurve                 │     1 │\n",
       "│ VoltageLimitSet                  │     8 │\n",
       "│ VoltageSourceEquipment           │     1 │\n",
       "│ WindingEquipment                 │    18 │\n",
       "└──────────────────────────────────┴───────┘\n",
       "</pre>\n"
      ],
      "text/plain": [
       "\u001b[1mComponent Information                       \u001b[0m\n",
       "┏━━━━━━━━━━━━━━━━━━━━━━━━━━━━━━━━━━┳━━━━━━━┓\n",
       "┃\u001b[1m \u001b[0m\u001b[1mType                            \u001b[0m\u001b[1m \u001b[0m┃\u001b[1m \u001b[0m\u001b[1mCount\u001b[0m\u001b[1m \u001b[0m┃\n",
       "┡━━━━━━━━━━━━━━━━━━━━━━━━━━━━━━━━━━╇━━━━━━━┩\n",
       "│ DistributionBus                  │  2510 │\n",
       "│ DistributionLoad                 │  1896 │\n",
       "│ DistributionTransformer          │   503 │\n",
       "│ DistributionTransformerEquipment │    10 │\n",
       "│ DistributionVoltageSource        │     1 │\n",
       "│ LoadEquipment                    │  1896 │\n",
       "│ Location                         │  2510 │\n",
       "│ MatrixImpedanceBranch            │  1841 │\n",
       "│ MatrixImpedanceBranchEquipment   │    38 │\n",
       "│ MatrixImpedanceFuse              │    81 │\n",
       "│ MatrixImpedanceFuseEquipment     │     6 │\n",
       "│ MatrixImpedanceSwitch            │    84 │\n",
       "│ MatrixImpedanceSwitchEquipment   │    15 │\n",
       "│ PhaseLoadEquipment               │  1948 │\n",
       "│ PhaseVoltageSourceEquipment      │     3 │\n",
       "│ TimeCurrentCurve                 │     1 │\n",
       "│ VoltageLimitSet                  │     8 │\n",
       "│ VoltageSourceEquipment           │     1 │\n",
       "│ WindingEquipment                 │    18 │\n",
       "└──────────────────────────────────┴───────┘\n"
      ]
     },
     "metadata": {},
     "output_type": "display_data"
    }
   ],
   "source": [
    "from gdm.distribution import DistributionSystem\n",
    "\n",
    "catalog = DistributionSystem.from_json(\"../p1rhs7_1247.json\")\n",
    "catalog.info()"
   ]
  },
  {
   "cell_type": "markdown",
   "metadata": {},
   "source": [
    "SHIFT builds synthetic distribution models in the GDM format. These can then be converted to OpenDSS using DiTTo is needed. Models can be built from a polygon of interest, an address or from single line diagrams. The Example below builds a gdm models for a given address."
   ]
  },
  {
   "cell_type": "code",
   "execution_count": null,
   "metadata": {},
   "outputs": [
    {
     "name": "stderr",
     "output_type": "stream",
     "text": [
      "\u001b[32m2025-05-02 11:53:37.558\u001b[0m | \u001b[1mINFO    \u001b[0m | \u001b[36mshift.parcel\u001b[0m:\u001b[36mparcels_from_location\u001b[0m:\u001b[36m148\u001b[0m - \u001b[1mAttempting to fetch parcels for 16550 Race Street, Thornton, CO, 80602\u001b[0m\n",
      "\u001b[32m2025-05-02 11:53:37.612\u001b[0m | \u001b[1mINFO    \u001b[0m | \u001b[36mshift.parcel\u001b[0m:\u001b[36mparcels_from_geodataframe\u001b[0m:\u001b[36m24\u001b[0m - \u001b[1mLength of geodataframe: 66, CRS: epsg:4326\u001b[0m\n",
      "\u001b[32m2025-05-02 11:53:37.615\u001b[0m | \u001b[1mINFO    \u001b[0m | \u001b[36mshift.parcel\u001b[0m:\u001b[36mparcels_from_geodataframe\u001b[0m:\u001b[36m95\u001b[0m - \u001b[1mNumber of parcels: 66\u001b[0m\n",
      "\u001b[32m2025-05-02 11:53:37.616\u001b[0m | \u001b[1mINFO    \u001b[0m | \u001b[36mshift_interface\u001b[0m:\u001b[36mshift_model_builder\u001b[0m:\u001b[36m182\u001b[0m - \u001b[1mFound 66 parcels\u001b[0m\n",
      "\u001b[32m2025-05-02 11:53:37.645\u001b[0m | \u001b[1mINFO    \u001b[0m | \u001b[36mshift_interface\u001b[0m:\u001b[36mshift_model_builder\u001b[0m:\u001b[36m185\u001b[0m - \u001b[1mCreated 16 clusters\u001b[0m\n",
      "\u001b[32m2025-05-02 11:53:37.646\u001b[0m | \u001b[1mINFO    \u001b[0m | \u001b[36mshift_interface\u001b[0m:\u001b[36mshift_model_builder\u001b[0m:\u001b[36m190\u001b[0m - \u001b[1mSource location: GeoLocation(longitude=-104.96594396888045, latitude=39.993612395066414)\u001b[0m\n",
      "\u001b[32m2025-05-02 11:53:37.650\u001b[0m | \u001b[34m\u001b[1mDEBUG   \u001b[0m | \u001b[36mshift.openstreet_roads\u001b[0m:\u001b[36mget_road_network\u001b[0m:\u001b[36m43\u001b[0m - \u001b[34m\u001b[1mAttempting to fecth road network for POLYGON ((-104.97554935483134 39.986908245168664, -104.95663284516866 39.986908245168664, -104.95663284516866 40.001680354831336, -104.97554935483134 40.001680354831336, -104.97554935483134 39.986908245168664))\u001b[0m\n"
     ]
    },
    {
     "ename": "TypeError",
     "evalue": "steiner_tree() got an unexpected keyword argument 'method'",
     "output_type": "error",
     "traceback": [
      "\u001b[31m---------------------------------------------------------------------------\u001b[39m",
      "\u001b[31mTypeError\u001b[39m                                 Traceback (most recent call last)",
      "\u001b[36mCell\u001b[39m\u001b[36m \u001b[39m\u001b[32mIn[2]\u001b[39m\u001b[32m, line 13\u001b[39m\n\u001b[32m      1\u001b[39m \u001b[38;5;66;03m# from requests.sessions import Session\u001b[39;00m\n\u001b[32m      2\u001b[39m \n\u001b[32m      3\u001b[39m \u001b[38;5;66;03m# _original_request = Session.request\u001b[39;00m\n\u001b[32m   (...)\u001b[39m\u001b[32m      8\u001b[39m \n\u001b[32m      9\u001b[39m \u001b[38;5;66;03m# Session.request = unsafe_request\u001b[39;00m\n\u001b[32m     11\u001b[39m \u001b[38;5;28;01mfrom\u001b[39;00m\u001b[38;5;250m \u001b[39m\u001b[34;01mshift_interface\u001b[39;00m\u001b[38;5;250m \u001b[39m\u001b[38;5;28;01mimport\u001b[39;00m shift_model_builder, SourceSelection\n\u001b[32m---> \u001b[39m\u001b[32m13\u001b[39m synthetic_distribution_system = \u001b[43mshift_model_builder\u001b[49m\u001b[43m(\u001b[49m\n\u001b[32m     14\u001b[39m \u001b[43m    \u001b[49m\u001b[43mparcel_source\u001b[49m\u001b[43m=\u001b[49m\u001b[33;43m\"\u001b[39;49m\u001b[33;43m16550 Race Street, Thornton, CO, 80602\u001b[39;49m\u001b[33;43m\"\u001b[39;49m\u001b[43m,\u001b[49m\n\u001b[32m     15\u001b[39m \u001b[43m    \u001b[49m\u001b[43mcatalog_sys\u001b[49m\u001b[43m \u001b[49m\u001b[43m=\u001b[49m\u001b[43m \u001b[49m\u001b[43mcatalog\u001b[49m\u001b[43m,\u001b[49m\n\u001b[32m     16\u001b[39m \u001b[43m    \u001b[49m\u001b[43mradius_in_meters\u001b[49m\u001b[43m=\u001b[49m\u001b[32;43m1000\u001b[39;49m\u001b[43m,\u001b[49m\n\u001b[32m     17\u001b[39m \u001b[43m    \u001b[49m\u001b[43mhomes_per_distribution_secondary\u001b[49m\u001b[43m=\u001b[49m\u001b[32;43m4\u001b[39;49m\u001b[43m,\u001b[49m\n\u001b[32m     18\u001b[39m \u001b[43m    \u001b[49m\u001b[43msource_placement\u001b[49m\u001b[43m=\u001b[49m\u001b[43mSourceSelection\u001b[49m\u001b[43m.\u001b[49m\u001b[43mCENTER\u001b[49m\u001b[43m,\u001b[49m\n\u001b[32m     19\u001b[39m \u001b[43m    \u001b[49m\u001b[43mis_single_phase\u001b[49m\u001b[43m=\u001b[49m\u001b[38;5;28;43;01mTrue\u001b[39;49;00m\u001b[43m,\u001b[49m\n\u001b[32m     20\u001b[39m \u001b[43m    \u001b[49m\u001b[43mprimary_voltage_level_in_kilovolts\u001b[49m\u001b[43m=\u001b[49m\u001b[32;43m7.2\u001b[39;49m\u001b[43m,\u001b[49m\n\u001b[32m     21\u001b[39m \u001b[43m    \u001b[49m\u001b[43msecondary_voltage_level_in_kilovolts\u001b[49m\u001b[43m=\u001b[49m\u001b[32;43m0.12\u001b[39;49m\u001b[43m,\u001b[49m\n\u001b[32m     22\u001b[39m \u001b[43m    \u001b[49m\u001b[43mgdm_model_name\u001b[49m\u001b[43m=\u001b[49m\u001b[33;43m\"\u001b[39;49m\u001b[33;43mgdm_model\u001b[39;49m\u001b[33;43m\"\u001b[39;49m\u001b[43m \u001b[49m\n\u001b[32m     23\u001b[39m \u001b[43m)\u001b[49m\n\u001b[32m     24\u001b[39m synthetic_distribution_system.info()\n",
      "\u001b[36mFile \u001b[39m\u001b[32m~/Documents/GitHub/gdm_tutorial/gdm_ecosystem/shift_interface.py:192\u001b[39m, in \u001b[36mshift_model_builder\u001b[39m\u001b[34m(parcel_source, catalog_sys, radius_in_meters, homes_per_distribution_secondary, source_placement, is_single_phase, primary_voltage_level_in_kilovolts, secondary_voltage_level_in_kilovolts, gdm_model_name)\u001b[39m\n\u001b[32m    190\u001b[39m logger.info(\u001b[33mf\u001b[39m\u001b[33m\"\u001b[39m\u001b[33mSource location: \u001b[39m\u001b[38;5;132;01m{\u001b[39;00msource_location\u001b[38;5;132;01m}\u001b[39;00m\u001b[33m\"\u001b[39m)  \n\u001b[32m    191\u001b[39m builder = PRSG(groups=clusters, source_location=source_location)\n\u001b[32m--> \u001b[39m\u001b[32m192\u001b[39m graph = \u001b[43mbuilder\u001b[49m\u001b[43m.\u001b[49m\u001b[43mget_distribution_graph\u001b[49m\u001b[43m(\u001b[49m\u001b[43m)\u001b[49m\n\u001b[32m    193\u001b[39m logger.info(\u001b[33mf\u001b[39m\u001b[33m\"\u001b[39m\u001b[33mCreated graph with \u001b[39m\u001b[38;5;132;01m{\u001b[39;00m\u001b[38;5;28mlen\u001b[39m(\u001b[38;5;28mlist\u001b[39m(graph.get_nodes()))\u001b[38;5;132;01m}\u001b[39;00m\u001b[33m nodes and \u001b[39m\u001b[38;5;132;01m{\u001b[39;00m\u001b[38;5;28mlen\u001b[39m(\u001b[38;5;28mlist\u001b[39m(graph.get_edges()))\u001b[38;5;132;01m}\u001b[39;00m\u001b[33m edges\u001b[39m\u001b[33m\"\u001b[39m)  \n\u001b[32m    194\u001b[39m new_graph = DistributionGraph()\n",
      "\u001b[36mFile \u001b[39m\u001b[32m/opt/homebrew/Caskroom/miniconda/base/envs/gdm2/lib/python3.12/site-packages/shift/graph/openstreet_graph_builder.py:298\u001b[39m, in \u001b[36mOpenStreetGraphBuilder.get_distribution_graph\u001b[39m\u001b[34m(self)\u001b[39m\n\u001b[32m    291\u001b[39m \u001b[38;5;28;01mdef\u001b[39;00m\u001b[38;5;250m \u001b[39m\u001b[34mget_distribution_graph\u001b[39m(\u001b[38;5;28mself\u001b[39m) -> DistributionGraph:\n\u001b[32m    292\u001b[39m \u001b[38;5;250m    \u001b[39m\u001b[33;03m\"\"\"Method to return distribution graph.\u001b[39;00m\n\u001b[32m    293\u001b[39m \n\u001b[32m    294\u001b[39m \u001b[33;03m    Returns\u001b[39;00m\n\u001b[32m    295\u001b[39m \u001b[33;03m    -------\u001b[39;00m\n\u001b[32m    296\u001b[39m \u001b[33;03m    DistributionGraph\u001b[39;00m\n\u001b[32m    297\u001b[39m \u001b[33;03m    \"\"\"\u001b[39;00m\n\u001b[32m--> \u001b[39m\u001b[32m298\u001b[39m     dist_network = nx.Graph(\u001b[38;5;28;43mself\u001b[39;49m\u001b[43m.\u001b[49m\u001b[43mbuild_primary_network\u001b[49m\u001b[43m(\u001b[49m\u001b[43m)\u001b[49m)\n\u001b[32m    299\u001b[39m     \u001b[38;5;28;01mif\u001b[39;00m \u001b[38;5;129;01mnot\u001b[39;00m dist_network.nodes:\n\u001b[32m    300\u001b[39m         msg = \u001b[33m\"\u001b[39m\u001b[33mEmpty primary graph created.\u001b[39m\u001b[33m\"\u001b[39m\n",
      "\u001b[36mFile \u001b[39m\u001b[32m/opt/homebrew/Caskroom/miniconda/base/envs/gdm2/lib/python3.12/site-packages/shift/graph/prsgb.py:100\u001b[39m, in \u001b[36mPRSG.build_primary_network\u001b[39m\u001b[34m(self)\u001b[39m\n\u001b[32m     95\u001b[39m road_network = split_network_edges(road_network_, split_length=Distance(\u001b[32m150\u001b[39m, \u001b[33m\"\u001b[39m\u001b[33mm\u001b[39m\u001b[33m\"\u001b[39m))\n\u001b[32m     96\u001b[39m nearest_nodes = \u001b[38;5;28mself\u001b[39m._get_nearest_nodes(\n\u001b[32m     97\u001b[39m     road_network,\n\u001b[32m     98\u001b[39m     [c.center \u001b[38;5;28;01mfor\u001b[39;00m c \u001b[38;5;129;01min\u001b[39;00m \u001b[38;5;28mself\u001b[39m.groups] + [\u001b[38;5;28mself\u001b[39m.source_location],\n\u001b[32m     99\u001b[39m )\n\u001b[32m--> \u001b[39m\u001b[32m100\u001b[39m primary_network = \u001b[38;5;28;43mself\u001b[39;49m\u001b[43m.\u001b[49m\u001b[43m_get_steiner_tree\u001b[49m\u001b[43m(\u001b[49m\n\u001b[32m    101\u001b[39m \u001b[43m    \u001b[49m\u001b[43mroad_network\u001b[49m\u001b[43m,\u001b[49m\n\u001b[32m    102\u001b[39m \u001b[43m    \u001b[49m\u001b[43mnearest_nodes\u001b[49m\u001b[43m,\u001b[49m\n\u001b[32m    103\u001b[39m \u001b[43m\u001b[49m\u001b[43m)\u001b[49m\n\u001b[32m    104\u001b[39m \u001b[38;5;28;01mreturn\u001b[39;00m primary_network\n",
      "\u001b[36mFile \u001b[39m\u001b[32m/opt/homebrew/Caskroom/miniconda/base/envs/gdm2/lib/python3.12/site-packages/shift/graph/openstreet_graph_builder.py:136\u001b[39m, in \u001b[36mOpenStreetGraphBuilder._get_steiner_tree\u001b[39m\u001b[34m(graph, nearest_nodes)\u001b[39m\n\u001b[32m    121\u001b[39m \u001b[38;5;250m\u001b[39m\u001b[33;03m\"\"\"Returns steineer tree from a given graph and nearest nodes.\u001b[39;00m\n\u001b[32m    122\u001b[39m \n\u001b[32m    123\u001b[39m \u001b[33;03mParameters\u001b[39;00m\n\u001b[32m   (...)\u001b[39m\u001b[32m    133\u001b[39m \u001b[33;03mnx.Graph\u001b[39;00m\n\u001b[32m    134\u001b[39m \u001b[33;03m\"\"\"\u001b[39;00m\n\u001b[32m    135\u001b[39m nx.set_edge_attributes(graph, \u001b[32m1\u001b[39m, \u001b[33m\"\u001b[39m\u001b[33mweight\u001b[39m\u001b[33m\"\u001b[39m)\n\u001b[32m--> \u001b[39m\u001b[32m136\u001b[39m \u001b[38;5;28;01mreturn\u001b[39;00m \u001b[43max\u001b[49m\u001b[43m.\u001b[49m\u001b[43msteiner_tree\u001b[49m\u001b[43m(\u001b[49m\n\u001b[32m    137\u001b[39m \u001b[43m    \u001b[49m\u001b[43mgraph\u001b[49m\u001b[43m,\u001b[49m\n\u001b[32m    138\u001b[39m \u001b[43m    \u001b[49m\u001b[43mnearest_nodes\u001b[49m\u001b[43m,\u001b[49m\n\u001b[32m    139\u001b[39m \u001b[43m    \u001b[49m\u001b[43mmethod\u001b[49m\u001b[43m=\u001b[49m\u001b[33;43m\"\u001b[39;49m\u001b[33;43mmehlhorn\u001b[39;49m\u001b[33;43m\"\u001b[39;49m\u001b[43m,\u001b[49m\n\u001b[32m    140\u001b[39m \u001b[43m\u001b[49m\u001b[43m)\u001b[49m\n",
      "\u001b[36mFile \u001b[39m\u001b[32m/opt/homebrew/Caskroom/miniconda/base/envs/gdm2/lib/python3.12/site-packages/networkx/utils/decorators.py:845\u001b[39m, in \u001b[36margmap.__call__.<locals>.func\u001b[39m\u001b[34m(_argmap__wrapper, *args, **kwargs)\u001b[39m\n\u001b[32m    844\u001b[39m \u001b[38;5;28;01mdef\u001b[39;00m\u001b[38;5;250m \u001b[39m\u001b[34mfunc\u001b[39m(*args, __wrapper=\u001b[38;5;28;01mNone\u001b[39;00m, **kwargs):\n\u001b[32m--> \u001b[39m\u001b[32m845\u001b[39m     \u001b[38;5;28;01mreturn\u001b[39;00m \u001b[43margmap\u001b[49m\u001b[43m.\u001b[49m\u001b[43m_lazy_compile\u001b[49m\u001b[43m(\u001b[49m\u001b[43m__wrapper\u001b[49m\u001b[43m)\u001b[49m\u001b[43m(\u001b[49m\u001b[43m*\u001b[49m\u001b[43margs\u001b[49m\u001b[43m,\u001b[49m\u001b[43m \u001b[49m\u001b[43m*\u001b[49m\u001b[43m*\u001b[49m\u001b[43mkwargs\u001b[49m\u001b[43m)\u001b[49m\n",
      "\u001b[31mTypeError\u001b[39m: steiner_tree() got an unexpected keyword argument 'method'"
     ]
    }
   ],
   "source": [
    "from shift_interface import shift_model_builder, SourceSelection\n",
    "\n",
    "synthetic_distribution_system = shift_model_builder(\n",
    "    parcel_source=\"16550 Race Street, Thornton, CO, 80602\",\n",
    "    catalog_sys = catalog,\n",
    "    radius_in_meters=1000,\n",
    "    homes_per_distribution_secondary=4,\n",
    "    source_placement=SourceSelection.CENTER,\n",
    "    is_single_phase=True,\n",
    "    primary_voltage_level_in_kilovolts=7.2,\n",
    "    secondary_voltage_level_in_kilovolts=0.12,\n",
    "    gdm_model_name=\"gdm_model\" \n",
    ")\n",
    "synthetic_distribution_system.info()"
   ]
  },
  {
   "cell_type": "code",
   "execution_count": null,
   "metadata": {},
   "outputs": [],
   "source": []
  }
 ],
 "metadata": {
  "kernelspec": {
   "display_name": "gdm2",
   "language": "python",
   "name": "python3"
  },
  "language_info": {
   "codemirror_mode": {
    "name": "ipython",
    "version": 3
   },
   "file_extension": ".py",
   "mimetype": "text/x-python",
   "name": "python",
   "nbconvert_exporter": "python",
   "pygments_lexer": "ipython3",
   "version": "3.12.0"
  },
  "widgets": {
   "application/vnd.jupyter.widget-state+json": {
    "state": {},
    "version_major": 2,
    "version_minor": 0
   }
  }
 },
 "nbformat": 4,
 "nbformat_minor": 4
}
