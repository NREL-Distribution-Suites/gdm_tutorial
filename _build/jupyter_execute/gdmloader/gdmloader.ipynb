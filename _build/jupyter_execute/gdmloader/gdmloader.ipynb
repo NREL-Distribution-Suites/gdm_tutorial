{
 "cells": [
  {
   "cell_type": "markdown",
   "metadata": {},
   "source": [
    "# Working with GDMLOADER\n",
    "\n",
    "GDMLOADER is a helper package designed to simplify downloading and loading example distribution system models into your workspace. It provides convenience functions for retrieving prebuilt test cases, allowing you to focus on using the models rather than building them from scratch.\n",
    "\n",
    "First, we will add sources to `SystemLoader` and explore the available test cases.\n",
    "\n",
    "```{note}\n",
    "Public cases are currently hosted on Google Cloud. However, GDMLOADER allows users to manage private sources (not covered in this tutorial). Contact the GDM team if you are interested in learning more.\n",
    "```\n",
    "\n",
    "## Setting Up Data Source\n"
   ]
  },
  {
   "cell_type": "code",
   "execution_count": 1,
   "metadata": {},
   "outputs": [
    {
     "data": {
      "text/html": [
       "<pre style=\"white-space:pre;overflow-x:auto;line-height:normal;font-family:Menlo,'DejaVu Sans Mono',consolas,'Courier New',monospace\">┏━━━━━━━━━━┳━━━━━━━━━━━━━━━━━━━━━━━━━━━━━━━━━━━━━━━━━┓\n",
       "┃<span style=\"font-weight: bold\">     Name </span>┃<span style=\"font-weight: bold\"> URL                                     </span>┃\n",
       "┡━━━━━━━━━━╇━━━━━━━━━━━━━━━━━━━━━━━━━━━━━━━━━━━━━━━━━┩\n",
       "│<span style=\"color: #008080; text-decoration-color: #008080\"> gdm_data </span>│<span style=\"color: #800080; text-decoration-color: #800080\"> https://storage.googleapis.com/gdm_data </span>│\n",
       "└──────────┴─────────────────────────────────────────┘\n",
       "</pre>\n"
      ],
      "text/plain": [
       "┏━━━━━━━━━━┳━━━━━━━━━━━━━━━━━━━━━━━━━━━━━━━━━━━━━━━━━┓\n",
       "┃\u001b[1m \u001b[0m\u001b[1m    Name\u001b[0m\u001b[1m \u001b[0m┃\u001b[1m \u001b[0m\u001b[1mURL                                    \u001b[0m\u001b[1m \u001b[0m┃\n",
       "┡━━━━━━━━━━╇━━━━━━━━━━━━━━━━━━━━━━━━━━━━━━━━━━━━━━━━━┩\n",
       "│\u001b[36m \u001b[0m\u001b[36mgdm_data\u001b[0m\u001b[36m \u001b[0m│\u001b[35m \u001b[0m\u001b[35mhttps://storage.googleapis.com/gdm_data\u001b[0m\u001b[35m \u001b[0m│\n",
       "└──────────┴─────────────────────────────────────────┘\n"
      ]
     },
     "metadata": {},
     "output_type": "display_data"
    }
   ],
   "source": [
    "from gdmloader.constants import GCS_CASE_SOURCE\n",
    "from gdmloader.source import SystemLoader\n",
    "\n",
    "gdm_loader = SystemLoader()\n",
    "gdm_loader.add_source(GCS_CASE_SOURCE)\n",
    "gdm_loader.show_sources()"
   ]
  },
  {
   "cell_type": "markdown",
   "metadata": {},
   "source": [
    "## Viewing Available Models\n",
    "\n",
    "Sources are designed to support all systems in GDM, including DistributionSystem, CatalogSystem, and StructuralSystem. You can view all available models hosted by the source using the `show_dataset_by_source` method.\n"
   ]
  },
  {
   "cell_type": "code",
   "execution_count": 2,
   "metadata": {},
   "outputs": [
    {
     "data": {
      "text/html": [
       "<pre style=\"white-space:pre;overflow-x:auto;line-height:normal;font-family:Menlo,'DejaVu Sans Mono',consolas,'Courier New',monospace\"><span style=\"font-style: italic\">                                               System: CatalogSystem                                               </span>\n",
       "┏━━━━━━━━━━━━━┳━━━━━━━━━━━━━━━━━━━━━━━━━━━━━━━━━━━━━━━━━━━━━━━━━━━━━━━━━━━━━━━━━━┳━━━━━━━━━━━━━┳━━━━━━━━━━━━━━━━━━┓\n",
       "┃<span style=\"font-weight: bold\">        name </span>┃<span style=\"font-weight: bold\">                                                      description </span>┃<span style=\"font-weight: bold\"> contributor </span>┃<span style=\"font-weight: bold\"> contributed_date </span>┃\n",
       "┡━━━━━━━━━━━━━╇━━━━━━━━━━━━━━━━━━━━━━━━━━━━━━━━━━━━━━━━━━━━━━━━━━━━━━━━━━━━━━━━━━╇━━━━━━━━━━━━━╇━━━━━━━━━━━━━━━━━━┩\n",
       "│ gdm_catalog │    Equipment catalog for DistributionSystem models contains over │ Aadil Latif │       2024-12-04 │\n",
       "│             │     25000 models for BareConductorEquipment, CapacitorEquipment, │             │                  │\n",
       "│             │      ConcentricCableEquipment, DistributionTransformerEquipment, │             │                  │\n",
       "│             │                             InverterEquipment and SolarEquipment │             │                  │\n",
       "└─────────────┴──────────────────────────────────────────────────────────────────┴─────────────┴──────────────────┘\n",
       "</pre>\n"
      ],
      "text/plain": [
       "\u001b[3m                                               System: CatalogSystem                                               \u001b[0m\n",
       "┏━━━━━━━━━━━━━┳━━━━━━━━━━━━━━━━━━━━━━━━━━━━━━━━━━━━━━━━━━━━━━━━━━━━━━━━━━━━━━━━━━┳━━━━━━━━━━━━━┳━━━━━━━━━━━━━━━━━━┓\n",
       "┃\u001b[1m \u001b[0m\u001b[1m       name\u001b[0m\u001b[1m \u001b[0m┃\u001b[1m \u001b[0m\u001b[1m                                                     description\u001b[0m\u001b[1m \u001b[0m┃\u001b[1m \u001b[0m\u001b[1mcontributor\u001b[0m\u001b[1m \u001b[0m┃\u001b[1m \u001b[0m\u001b[1mcontributed_date\u001b[0m\u001b[1m \u001b[0m┃\n",
       "┡━━━━━━━━━━━━━╇━━━━━━━━━━━━━━━━━━━━━━━━━━━━━━━━━━━━━━━━━━━━━━━━━━━━━━━━━━━━━━━━━━╇━━━━━━━━━━━━━╇━━━━━━━━━━━━━━━━━━┩\n",
       "│ gdm_catalog │    Equipment catalog for DistributionSystem models contains over │ Aadil Latif │       2024-12-04 │\n",
       "│             │     25000 models for BareConductorEquipment, CapacitorEquipment, │             │                  │\n",
       "│             │      ConcentricCableEquipment, DistributionTransformerEquipment, │             │                  │\n",
       "│             │                             InverterEquipment and SolarEquipment │             │                  │\n",
       "└─────────────┴──────────────────────────────────────────────────────────────────┴─────────────┴──────────────────┘\n"
      ]
     },
     "metadata": {},
     "output_type": "display_data"
    },
    {
     "data": {
      "text/html": [
       "<pre style=\"white-space:pre;overflow-x:auto;line-height:normal;font-family:Menlo,'DejaVu Sans Mono',consolas,'Courier New',monospace\"><span style=\"font-style: italic\">  System:  </span>\n",
       "<span style=\"font-style: italic\">CatalogSyst</span>\n",
       "<span style=\"font-style: italic\">em versions</span>\n",
       "┏━━━━━━━━━┓\n",
       "┃<span style=\"font-weight: bold\"> Version </span>┃\n",
       "┡━━━━━━━━━┩\n",
       "│   1_3_1 │\n",
       "│   1_3_2 │\n",
       "│   1_3_3 │\n",
       "│   1_4_0 │\n",
       "│   2_0_0 │\n",
       "└─────────┘\n",
       "</pre>\n"
      ],
      "text/plain": [
       "\u001b[3m  System:  \u001b[0m\n",
       "\u001b[3mCatalogSyst\u001b[0m\n",
       "\u001b[3mem versions\u001b[0m\n",
       "┏━━━━━━━━━┓\n",
       "┃\u001b[1m \u001b[0m\u001b[1mVersion\u001b[0m\u001b[1m \u001b[0m┃\n",
       "┡━━━━━━━━━┩\n",
       "│   1_3_1 │\n",
       "│   1_3_2 │\n",
       "│   1_3_3 │\n",
       "│   1_4_0 │\n",
       "│   2_0_0 │\n",
       "└─────────┘\n"
      ]
     },
     "metadata": {},
     "output_type": "display_data"
    },
    {
     "data": {
      "text/html": [
       "<pre style=\"white-space:pre;overflow-x:auto;line-height:normal;font-family:Menlo,'DejaVu Sans Mono',consolas,'Courier New',monospace\"><span style=\"font-style: italic\">                                            System: DistributionSystem                                             </span>\n",
       "┏━━━━━━━━━━━━━━━┳━━━━━━━━━━━━━━━┳━━━━━━━━━━━━━━━┳━━━━━━━━━━━━━━━┳━━━━━━━━━━━━━━━━┳━━━━━━━━━━━━━━━┳━━━━━━━━━━━━━━━━┓\n",
       "┃<span style=\"font-weight: bold\">          name </span>┃<span style=\"font-weight: bold\">   description </span>┃<span style=\"font-weight: bold\">   contributor </span>┃<span style=\"font-weight: bold\"> contributed_… </span>┃<span style=\"font-weight: bold\"> has_geo_coord… </span>┃<span style=\"font-weight: bold\"> has_time_ser… </span>┃<span style=\"font-weight: bold\"> has_split_pha… </span>┃\n",
       "┡━━━━━━━━━━━━━━━╇━━━━━━━━━━━━━━━╇━━━━━━━━━━━━━━━╇━━━━━━━━━━━━━━━╇━━━━━━━━━━━━━━━━╇━━━━━━━━━━━━━━━╇━━━━━━━━━━━━━━━━┩\n",
       "│           p5r │      Slightly │  Kapil Duwadi │    2024-12-03 │           True │          True │           True │\n",
       "│               │      modified │               │               │                │               │                │\n",
       "│               │    version of │               │               │                │               │                │\n",
       "│               │    sub feeder │               │               │                │               │                │\n",
       "│               │  within `P5R` │               │               │                │               │                │\n",
       "│               │        region │               │               │                │               │                │\n",
       "│               │  SMARTDS data │               │               │                │               │                │\n",
       "│               │    from `SFO` │               │               │                │               │                │\n",
       "│               │   area. Added │               │               │                │               │                │\n",
       "│               │     PVsystem. │               │               │                │               │                │\n",
       "│ three_feeder… │  Three feeder │ Abodh Poudyal │    2024-12-13 │          False │         False │          False │\n",
       "│               │     test case │               │               │                │               │                │\n",
       "│               │          with │               │               │                │               │                │\n",
       "│               │ non-identical │               │               │                │               │                │\n",
       "│               │   feeder load │               │               │                │               │                │\n",
       "│               │   without tie │               │               │                │               │                │\n",
       "│               │     switches. │               │               │                │               │                │\n",
       "│ three_feeder… │  Three feeder │ Abodh Poudyal │    2024-12-13 │          False │         False │          False │\n",
       "│               │     test case │               │               │                │               │                │\n",
       "│               │          with │               │               │                │               │                │\n",
       "│               │ non-identical │               │               │                │               │                │\n",
       "│               │   feeder load │               │               │                │               │                │\n",
       "│               │ and switches. │               │               │                │               │                │\n",
       "│ three_feeder… │  Three feeder │ Abodh Poudyal │    2024-12-03 │          False │         False │          False │\n",
       "│               │     test case │               │               │                │               │                │\n",
       "│               │          with │               │               │                │               │                │\n",
       "│               │     switches. │               │               │                │               │                │\n",
       "│    testcasev1 │   Simple test │  Kapil Duwadi │    2024-12-03 │          False │         False │          False │\n",
       "│               │      case for │               │               │                │               │                │\n",
       "│               │         CADET │               │               │                │               │                │\n",
       "│               │      testing. │               │               │                │               │                │\n",
       "└───────────────┴───────────────┴───────────────┴───────────────┴────────────────┴───────────────┴────────────────┘\n",
       "</pre>\n"
      ],
      "text/plain": [
       "\u001b[3m                                            System: DistributionSystem                                             \u001b[0m\n",
       "┏━━━━━━━━━━━━━━━┳━━━━━━━━━━━━━━━┳━━━━━━━━━━━━━━━┳━━━━━━━━━━━━━━━┳━━━━━━━━━━━━━━━━┳━━━━━━━━━━━━━━━┳━━━━━━━━━━━━━━━━┓\n",
       "┃\u001b[1m \u001b[0m\u001b[1m         name\u001b[0m\u001b[1m \u001b[0m┃\u001b[1m \u001b[0m\u001b[1m  description\u001b[0m\u001b[1m \u001b[0m┃\u001b[1m \u001b[0m\u001b[1m  contributor\u001b[0m\u001b[1m \u001b[0m┃\u001b[1m \u001b[0m\u001b[1mcontributed_…\u001b[0m\u001b[1m \u001b[0m┃\u001b[1m \u001b[0m\u001b[1mhas_geo_coord…\u001b[0m\u001b[1m \u001b[0m┃\u001b[1m \u001b[0m\u001b[1mhas_time_ser…\u001b[0m\u001b[1m \u001b[0m┃\u001b[1m \u001b[0m\u001b[1mhas_split_pha…\u001b[0m\u001b[1m \u001b[0m┃\n",
       "┡━━━━━━━━━━━━━━━╇━━━━━━━━━━━━━━━╇━━━━━━━━━━━━━━━╇━━━━━━━━━━━━━━━╇━━━━━━━━━━━━━━━━╇━━━━━━━━━━━━━━━╇━━━━━━━━━━━━━━━━┩\n",
       "│           p5r │      Slightly │  Kapil Duwadi │    2024-12-03 │           True │          True │           True │\n",
       "│               │      modified │               │               │                │               │                │\n",
       "│               │    version of │               │               │                │               │                │\n",
       "│               │    sub feeder │               │               │                │               │                │\n",
       "│               │  within `P5R` │               │               │                │               │                │\n",
       "│               │        region │               │               │                │               │                │\n",
       "│               │  SMARTDS data │               │               │                │               │                │\n",
       "│               │    from `SFO` │               │               │                │               │                │\n",
       "│               │   area. Added │               │               │                │               │                │\n",
       "│               │     PVsystem. │               │               │                │               │                │\n",
       "│ three_feeder… │  Three feeder │ Abodh Poudyal │    2024-12-13 │          False │         False │          False │\n",
       "│               │     test case │               │               │                │               │                │\n",
       "│               │          with │               │               │                │               │                │\n",
       "│               │ non-identical │               │               │                │               │                │\n",
       "│               │   feeder load │               │               │                │               │                │\n",
       "│               │   without tie │               │               │                │               │                │\n",
       "│               │     switches. │               │               │                │               │                │\n",
       "│ three_feeder… │  Three feeder │ Abodh Poudyal │    2024-12-13 │          False │         False │          False │\n",
       "│               │     test case │               │               │                │               │                │\n",
       "│               │          with │               │               │                │               │                │\n",
       "│               │ non-identical │               │               │                │               │                │\n",
       "│               │   feeder load │               │               │                │               │                │\n",
       "│               │ and switches. │               │               │                │               │                │\n",
       "│ three_feeder… │  Three feeder │ Abodh Poudyal │    2024-12-03 │          False │         False │          False │\n",
       "│               │     test case │               │               │                │               │                │\n",
       "│               │          with │               │               │                │               │                │\n",
       "│               │     switches. │               │               │                │               │                │\n",
       "│    testcasev1 │   Simple test │  Kapil Duwadi │    2024-12-03 │          False │         False │          False │\n",
       "│               │      case for │               │               │                │               │                │\n",
       "│               │         CADET │               │               │                │               │                │\n",
       "│               │      testing. │               │               │                │               │                │\n",
       "└───────────────┴───────────────┴───────────────┴───────────────┴────────────────┴───────────────┴────────────────┘\n"
      ]
     },
     "metadata": {},
     "output_type": "display_data"
    },
    {
     "data": {
      "text/html": [
       "<pre style=\"white-space:pre;overflow-x:auto;line-height:normal;font-family:Menlo,'DejaVu Sans Mono',consolas,'Courier New',monospace\"><span style=\"font-style: italic\">  System:  </span>\n",
       "<span style=\"font-style: italic\">Distributio</span>\n",
       "<span style=\"font-style: italic\">  nSystem  </span>\n",
       "<span style=\"font-style: italic\"> versions  </span>\n",
       "┏━━━━━━━━━┓\n",
       "┃<span style=\"font-weight: bold\"> Version </span>┃\n",
       "┡━━━━━━━━━┩\n",
       "│   1_2_0 │\n",
       "│   1_3_0 │\n",
       "│   1_3_1 │\n",
       "│   1_3_2 │\n",
       "│   1_3_3 │\n",
       "│   1_4_0 │\n",
       "│   2_0_0 │\n",
       "└─────────┘\n",
       "</pre>\n"
      ],
      "text/plain": [
       "\u001b[3m  System:  \u001b[0m\n",
       "\u001b[3mDistributio\u001b[0m\n",
       "\u001b[3m  nSystem  \u001b[0m\n",
       "\u001b[3m versions  \u001b[0m\n",
       "┏━━━━━━━━━┓\n",
       "┃\u001b[1m \u001b[0m\u001b[1mVersion\u001b[0m\u001b[1m \u001b[0m┃\n",
       "┡━━━━━━━━━┩\n",
       "│   1_2_0 │\n",
       "│   1_3_0 │\n",
       "│   1_3_1 │\n",
       "│   1_3_2 │\n",
       "│   1_3_3 │\n",
       "│   1_4_0 │\n",
       "│   2_0_0 │\n",
       "└─────────┘\n"
      ]
     },
     "metadata": {},
     "output_type": "display_data"
    }
   ],
   "source": [
    "gdm_loader.show_dataset_by_source(\"gdm_data\")"
   ]
  },
  {
   "cell_type": "markdown",
   "metadata": {},
   "source": [
    "Alternatively, models for a specific system can be viewed using the `show_dataset_by_system` method."
   ]
  },
  {
   "cell_type": "code",
   "execution_count": 3,
   "metadata": {},
   "outputs": [
    {
     "data": {
      "text/html": [
       "<pre style=\"white-space:pre;overflow-x:auto;line-height:normal;font-family:Menlo,'DejaVu Sans Mono',consolas,'Courier New',monospace\"><span style=\"font-style: italic\">                                            System: DistributionSystem                                             </span>\n",
       "┏━━━━━━━━━━━━━━━┳━━━━━━━━━━━━━━━┳━━━━━━━━━━━━━━━┳━━━━━━━━━━━━━━━┳━━━━━━━━━━━━━━━━┳━━━━━━━━━━━━━━━┳━━━━━━━━━━━━━━━━┓\n",
       "┃<span style=\"font-weight: bold\">          name </span>┃<span style=\"font-weight: bold\">   description </span>┃<span style=\"font-weight: bold\">   contributor </span>┃<span style=\"font-weight: bold\"> contributed_… </span>┃<span style=\"font-weight: bold\"> has_geo_coord… </span>┃<span style=\"font-weight: bold\"> has_time_ser… </span>┃<span style=\"font-weight: bold\"> has_split_pha… </span>┃\n",
       "┡━━━━━━━━━━━━━━━╇━━━━━━━━━━━━━━━╇━━━━━━━━━━━━━━━╇━━━━━━━━━━━━━━━╇━━━━━━━━━━━━━━━━╇━━━━━━━━━━━━━━━╇━━━━━━━━━━━━━━━━┩\n",
       "│           p5r │      Slightly │  Kapil Duwadi │    2024-12-03 │           True │          True │           True │\n",
       "│               │      modified │               │               │                │               │                │\n",
       "│               │    version of │               │               │                │               │                │\n",
       "│               │    sub feeder │               │               │                │               │                │\n",
       "│               │  within `P5R` │               │               │                │               │                │\n",
       "│               │        region │               │               │                │               │                │\n",
       "│               │  SMARTDS data │               │               │                │               │                │\n",
       "│               │    from `SFO` │               │               │                │               │                │\n",
       "│               │   area. Added │               │               │                │               │                │\n",
       "│               │     PVsystem. │               │               │                │               │                │\n",
       "│ three_feeder… │  Three feeder │ Abodh Poudyal │    2024-12-13 │          False │         False │          False │\n",
       "│               │     test case │               │               │                │               │                │\n",
       "│               │          with │               │               │                │               │                │\n",
       "│               │ non-identical │               │               │                │               │                │\n",
       "│               │   feeder load │               │               │                │               │                │\n",
       "│               │   without tie │               │               │                │               │                │\n",
       "│               │     switches. │               │               │                │               │                │\n",
       "│ three_feeder… │  Three feeder │ Abodh Poudyal │    2024-12-13 │          False │         False │          False │\n",
       "│               │     test case │               │               │                │               │                │\n",
       "│               │          with │               │               │                │               │                │\n",
       "│               │ non-identical │               │               │                │               │                │\n",
       "│               │   feeder load │               │               │                │               │                │\n",
       "│               │ and switches. │               │               │                │               │                │\n",
       "│ three_feeder… │  Three feeder │ Abodh Poudyal │    2024-12-03 │          False │         False │          False │\n",
       "│               │     test case │               │               │                │               │                │\n",
       "│               │          with │               │               │                │               │                │\n",
       "│               │     switches. │               │               │                │               │                │\n",
       "│    testcasev1 │   Simple test │  Kapil Duwadi │    2024-12-03 │          False │         False │          False │\n",
       "│               │      case for │               │               │                │               │                │\n",
       "│               │         CADET │               │               │                │               │                │\n",
       "│               │      testing. │               │               │                │               │                │\n",
       "└───────────────┴───────────────┴───────────────┴───────────────┴────────────────┴───────────────┴────────────────┘\n",
       "</pre>\n"
      ],
      "text/plain": [
       "\u001b[3m                                            System: DistributionSystem                                             \u001b[0m\n",
       "┏━━━━━━━━━━━━━━━┳━━━━━━━━━━━━━━━┳━━━━━━━━━━━━━━━┳━━━━━━━━━━━━━━━┳━━━━━━━━━━━━━━━━┳━━━━━━━━━━━━━━━┳━━━━━━━━━━━━━━━━┓\n",
       "┃\u001b[1m \u001b[0m\u001b[1m         name\u001b[0m\u001b[1m \u001b[0m┃\u001b[1m \u001b[0m\u001b[1m  description\u001b[0m\u001b[1m \u001b[0m┃\u001b[1m \u001b[0m\u001b[1m  contributor\u001b[0m\u001b[1m \u001b[0m┃\u001b[1m \u001b[0m\u001b[1mcontributed_…\u001b[0m\u001b[1m \u001b[0m┃\u001b[1m \u001b[0m\u001b[1mhas_geo_coord…\u001b[0m\u001b[1m \u001b[0m┃\u001b[1m \u001b[0m\u001b[1mhas_time_ser…\u001b[0m\u001b[1m \u001b[0m┃\u001b[1m \u001b[0m\u001b[1mhas_split_pha…\u001b[0m\u001b[1m \u001b[0m┃\n",
       "┡━━━━━━━━━━━━━━━╇━━━━━━━━━━━━━━━╇━━━━━━━━━━━━━━━╇━━━━━━━━━━━━━━━╇━━━━━━━━━━━━━━━━╇━━━━━━━━━━━━━━━╇━━━━━━━━━━━━━━━━┩\n",
       "│           p5r │      Slightly │  Kapil Duwadi │    2024-12-03 │           True │          True │           True │\n",
       "│               │      modified │               │               │                │               │                │\n",
       "│               │    version of │               │               │                │               │                │\n",
       "│               │    sub feeder │               │               │                │               │                │\n",
       "│               │  within `P5R` │               │               │                │               │                │\n",
       "│               │        region │               │               │                │               │                │\n",
       "│               │  SMARTDS data │               │               │                │               │                │\n",
       "│               │    from `SFO` │               │               │                │               │                │\n",
       "│               │   area. Added │               │               │                │               │                │\n",
       "│               │     PVsystem. │               │               │                │               │                │\n",
       "│ three_feeder… │  Three feeder │ Abodh Poudyal │    2024-12-13 │          False │         False │          False │\n",
       "│               │     test case │               │               │                │               │                │\n",
       "│               │          with │               │               │                │               │                │\n",
       "│               │ non-identical │               │               │                │               │                │\n",
       "│               │   feeder load │               │               │                │               │                │\n",
       "│               │   without tie │               │               │                │               │                │\n",
       "│               │     switches. │               │               │                │               │                │\n",
       "│ three_feeder… │  Three feeder │ Abodh Poudyal │    2024-12-13 │          False │         False │          False │\n",
       "│               │     test case │               │               │                │               │                │\n",
       "│               │          with │               │               │                │               │                │\n",
       "│               │ non-identical │               │               │                │               │                │\n",
       "│               │   feeder load │               │               │                │               │                │\n",
       "│               │ and switches. │               │               │                │               │                │\n",
       "│ three_feeder… │  Three feeder │ Abodh Poudyal │    2024-12-03 │          False │         False │          False │\n",
       "│               │     test case │               │               │                │               │                │\n",
       "│               │          with │               │               │                │               │                │\n",
       "│               │     switches. │               │               │                │               │                │\n",
       "│    testcasev1 │   Simple test │  Kapil Duwadi │    2024-12-03 │          False │         False │          False │\n",
       "│               │      case for │               │               │                │               │                │\n",
       "│               │         CADET │               │               │                │               │                │\n",
       "│               │      testing. │               │               │                │               │                │\n",
       "└───────────────┴───────────────┴───────────────┴───────────────┴────────────────┴───────────────┴────────────────┘\n"
      ]
     },
     "metadata": {},
     "output_type": "display_data"
    },
    {
     "data": {
      "text/html": [
       "<pre style=\"white-space:pre;overflow-x:auto;line-height:normal;font-family:Menlo,'DejaVu Sans Mono',consolas,'Courier New',monospace\"><span style=\"font-style: italic\">  System:  </span>\n",
       "<span style=\"font-style: italic\">Distributio</span>\n",
       "<span style=\"font-style: italic\">  nSystem  </span>\n",
       "<span style=\"font-style: italic\"> versions  </span>\n",
       "┏━━━━━━━━━┓\n",
       "┃<span style=\"font-weight: bold\"> Version </span>┃\n",
       "┡━━━━━━━━━┩\n",
       "│   1_2_0 │\n",
       "│   1_3_0 │\n",
       "│   1_3_1 │\n",
       "│   1_3_2 │\n",
       "│   1_3_3 │\n",
       "│   1_4_0 │\n",
       "│   2_0_0 │\n",
       "└─────────┘\n",
       "</pre>\n"
      ],
      "text/plain": [
       "\u001b[3m  System:  \u001b[0m\n",
       "\u001b[3mDistributio\u001b[0m\n",
       "\u001b[3m  nSystem  \u001b[0m\n",
       "\u001b[3m versions  \u001b[0m\n",
       "┏━━━━━━━━━┓\n",
       "┃\u001b[1m \u001b[0m\u001b[1mVersion\u001b[0m\u001b[1m \u001b[0m┃\n",
       "┡━━━━━━━━━┩\n",
       "│   1_2_0 │\n",
       "│   1_3_0 │\n",
       "│   1_3_1 │\n",
       "│   1_3_2 │\n",
       "│   1_3_3 │\n",
       "│   1_4_0 │\n",
       "│   2_0_0 │\n",
       "└─────────┘\n"
      ]
     },
     "metadata": {},
     "output_type": "display_data"
    }
   ],
   "source": [
    "gdm_loader.show_dataset_by_system(\"DistributionSystem\", \"gdm_data\")"
   ]
  },
  {
   "cell_type": "markdown",
   "metadata": {},
   "source": [
    "## Downloading case files\n",
    "\n",
    "Users can download specific models using the `load_dataset` method.\n",
    "\n",
    "```{note}\n",
    "By default, gdmloader downloads the model version that corresponds to the installed GDM version. However, users can specify a different version they wish to download.\n",
    "```"
   ]
  },
  {
   "cell_type": "code",
   "execution_count": 4,
   "metadata": {},
   "outputs": [
    {
     "name": "stderr",
     "output_type": "stream",
     "text": [
      "/opt/homebrew/Caskroom/miniconda/base/envs/gdm2/lib/python3.12/site-packages/pydantic/_internal/_generate_schema.py:502: UserWarning: Ellipsis is not a Python type (it may be an instance of an object), Pydantic will allow any object with no validation since we cannot even enforce that the input is an instance of the given type. To get rid of this error wrap the type with `pydantic.SkipValidation`.\n",
      "  warn(\n"
     ]
    }
   ],
   "source": [
    "from gdm.distribution import DistributionSystem\n",
    "distribution_system: DistributionSystem = gdm_loader.load_dataset(\n",
    "    system_type=DistributionSystem, \n",
    "    source_name=\"gdm_data\", \n",
    "    dataset_name=\"p5r\",\n",
    "    #version=\"1_4_0\" # Optional. By default model matching your GDM installation is returned\n",
    ")"
   ]
  },
  {
   "cell_type": "markdown",
   "metadata": {},
   "source": [
    "Downloaded models are cached on the local machine for improved performance. Users can view system information using the `info` method on the system instance.\n"
   ]
  },
  {
   "cell_type": "code",
   "execution_count": 5,
   "metadata": {},
   "outputs": [
    {
     "data": {
      "text/html": [
       "<pre style=\"white-space:pre;overflow-x:auto;line-height:normal;font-family:Menlo,'DejaVu Sans Mono',consolas,'Courier New',monospace\"><span style=\"font-weight: bold\">System                          </span>\n",
       "┏━━━━━━━━━━━━━━━━━━━━━━┳━━━━━━━┓\n",
       "┃<span style=\"font-weight: bold\"> Property             </span>┃<span style=\"font-weight: bold\"> Value </span>┃\n",
       "┡━━━━━━━━━━━━━━━━━━━━━━╇━━━━━━━┩\n",
       "│ System name          │   P5R │\n",
       "│ Data format version  │ 2.0.0 │\n",
       "│ Components attached  │    60 │\n",
       "│ Time Series attached │     5 │\n",
       "│ Description          │       │\n",
       "└──────────────────────┴───────┘\n",
       "</pre>\n"
      ],
      "text/plain": [
       "\u001b[1mSystem                          \u001b[0m\n",
       "┏━━━━━━━━━━━━━━━━━━━━━━┳━━━━━━━┓\n",
       "┃\u001b[1m \u001b[0m\u001b[1mProperty            \u001b[0m\u001b[1m \u001b[0m┃\u001b[1m \u001b[0m\u001b[1mValue\u001b[0m\u001b[1m \u001b[0m┃\n",
       "┡━━━━━━━━━━━━━━━━━━━━━━╇━━━━━━━┩\n",
       "│ System name          │   P5R │\n",
       "│ Data format version  │ 2.0.0 │\n",
       "│ Components attached  │    60 │\n",
       "│ Time Series attached │     5 │\n",
       "│ Description          │       │\n",
       "└──────────────────────┴───────┘\n"
      ]
     },
     "metadata": {},
     "output_type": "display_data"
    },
    {
     "data": {
      "text/html": [
       "<pre style=\"white-space:pre;overflow-x:auto;line-height:normal;font-family:Menlo,'DejaVu Sans Mono',consolas,'Courier New',monospace\"><span style=\"font-weight: bold\">Component Information                       </span>\n",
       "┏━━━━━━━━━━━━━━━━━━━━━━━━━━━━━━━━━━┳━━━━━━━┓\n",
       "┃<span style=\"font-weight: bold\"> Type                             </span>┃<span style=\"font-weight: bold\"> Count </span>┃\n",
       "┡━━━━━━━━━━━━━━━━━━━━━━━━━━━━━━━━━━╇━━━━━━━┩\n",
       "│ DistributionBus                  │    10 │\n",
       "│ DistributionLoad                 │     2 │\n",
       "│ DistributionSolar                │     2 │\n",
       "│ DistributionTransformer          │     2 │\n",
       "│ DistributionTransformerEquipment │     1 │\n",
       "│ DistributionVoltageSource        │     1 │\n",
       "│ InverterEquipment                │     2 │\n",
       "│ LoadEquipment                    │     2 │\n",
       "│ Location                         │    10 │\n",
       "│ MatrixImpedanceBranch            │     6 │\n",
       "│ MatrixImpedanceBranchEquipment   │     2 │\n",
       "│ MatrixImpedanceSwitch            │     1 │\n",
       "│ MatrixImpedanceSwitchEquipment   │     1 │\n",
       "│ PhaseLoadEquipment               │     6 │\n",
       "│ PhaseVoltageSourceEquipment      │     3 │\n",
       "│ SolarEquipment                   │     2 │\n",
       "│ VoltageLimitSet                  │     4 │\n",
       "│ VoltageSourceEquipment           │     1 │\n",
       "│ WindingEquipment                 │     2 │\n",
       "└──────────────────────────────────┴───────┘\n",
       "</pre>\n"
      ],
      "text/plain": [
       "\u001b[1mComponent Information                       \u001b[0m\n",
       "┏━━━━━━━━━━━━━━━━━━━━━━━━━━━━━━━━━━┳━━━━━━━┓\n",
       "┃\u001b[1m \u001b[0m\u001b[1mType                            \u001b[0m\u001b[1m \u001b[0m┃\u001b[1m \u001b[0m\u001b[1mCount\u001b[0m\u001b[1m \u001b[0m┃\n",
       "┡━━━━━━━━━━━━━━━━━━━━━━━━━━━━━━━━━━╇━━━━━━━┩\n",
       "│ DistributionBus                  │    10 │\n",
       "│ DistributionLoad                 │     2 │\n",
       "│ DistributionSolar                │     2 │\n",
       "│ DistributionTransformer          │     2 │\n",
       "│ DistributionTransformerEquipment │     1 │\n",
       "│ DistributionVoltageSource        │     1 │\n",
       "│ InverterEquipment                │     2 │\n",
       "│ LoadEquipment                    │     2 │\n",
       "│ Location                         │    10 │\n",
       "│ MatrixImpedanceBranch            │     6 │\n",
       "│ MatrixImpedanceBranchEquipment   │     2 │\n",
       "│ MatrixImpedanceSwitch            │     1 │\n",
       "│ MatrixImpedanceSwitchEquipment   │     1 │\n",
       "│ PhaseLoadEquipment               │     6 │\n",
       "│ PhaseVoltageSourceEquipment      │     3 │\n",
       "│ SolarEquipment                   │     2 │\n",
       "│ VoltageLimitSet                  │     4 │\n",
       "│ VoltageSourceEquipment           │     1 │\n",
       "│ WindingEquipment                 │     2 │\n",
       "└──────────────────────────────────┴───────┘\n"
      ]
     },
     "metadata": {},
     "output_type": "display_data"
    },
    {
     "data": {
      "text/html": [
       "<pre style=\"white-space:pre;overflow-x:auto;line-height:normal;font-family:Menlo,'DejaVu Sans Mono',consolas,'Courier New',monospace\"><span style=\"font-weight: bold\">Time Series Summary                                                                                                </span>\n",
       "┏━━━━━━━━━━━━━━━━━━━━━━┳━━━━━━━━━━━━━━━━━━┳━━━━━━━━━━━━━━━━━━━━━┳━━━━━━━━━━━━┳━━━━━━━━━━━━━━━━┳━━━━━━━━━━━━━━━━━━━━\n",
       "┃<span style=\"font-weight: bold\">                      </span>┃<span style=\"font-weight: bold\">                  </span>┃<span style=\"font-weight: bold\">                     </span>┃<span style=\"font-weight: bold\">            </span>┃<span style=\"font-weight: bold\">                </span>┃<span style=\"font-weight: bold\">     No. Components </span>\n",
       "┃<span style=\"font-weight: bold\"> Component Type       </span>┃<span style=\"font-weight: bold\"> Time Series Type </span>┃<span style=\"font-weight: bold\">        Initial time </span>┃<span style=\"font-weight: bold\"> Resolution </span>┃<span style=\"font-weight: bold\"> No. Components </span>┃<span style=\"font-weight: bold\">   with Time Series </span>\n",
       "┡━━━━━━━━━━━━━━━━━━━━━━╇━━━━━━━━━━━━━━━━━━╇━━━━━━━━━━━━━━━━━━━━━╇━━━━━━━━━━━━╇━━━━━━━━━━━━━━━━╇━━━━━━━━━━━━━━━━━━━━\n",
       "│ DistributionLoad     │ SingleTimeSeries │ 2020-01-01 00:00:00 │    0:15:00 │              2 │                  4 \n",
       "│ DistributionSolar    │ SingleTimeSeries │ 2020-01-01 00:00:00 │    0:15:00 │              2 │                  2 \n",
       "└──────────────────────┴──────────────────┴─────────────────────┴────────────┴────────────────┴────────────────────\n",
       "</pre>\n"
      ],
      "text/plain": [
       "\u001b[1mTime Series Summary                                                                                                \u001b[0m\n",
       "┏━━━━━━━━━━━━━━━━━━━━━━┳━━━━━━━━━━━━━━━━━━┳━━━━━━━━━━━━━━━━━━━━━┳━━━━━━━━━━━━┳━━━━━━━━━━━━━━━━┳━━━━━━━━━━━━━━━━━━━━\n",
       "┃\u001b[1m                      \u001b[0m┃\u001b[1m                  \u001b[0m┃\u001b[1m                     \u001b[0m┃\u001b[1m            \u001b[0m┃\u001b[1m                \u001b[0m┃\u001b[1m \u001b[0m\u001b[1m    No. Components\u001b[0m\u001b[1m \u001b[0m\n",
       "┃\u001b[1m \u001b[0m\u001b[1mComponent Type      \u001b[0m\u001b[1m \u001b[0m┃\u001b[1m \u001b[0m\u001b[1mTime Series Type\u001b[0m\u001b[1m \u001b[0m┃\u001b[1m \u001b[0m\u001b[1m       Initial time\u001b[0m\u001b[1m \u001b[0m┃\u001b[1m \u001b[0m\u001b[1mResolution\u001b[0m\u001b[1m \u001b[0m┃\u001b[1m \u001b[0m\u001b[1mNo. Components\u001b[0m\u001b[1m \u001b[0m┃\u001b[1m \u001b[0m\u001b[1m  with Time Series\u001b[0m\u001b[1m \u001b[0m\n",
       "┡━━━━━━━━━━━━━━━━━━━━━━╇━━━━━━━━━━━━━━━━━━╇━━━━━━━━━━━━━━━━━━━━━╇━━━━━━━━━━━━╇━━━━━━━━━━━━━━━━╇━━━━━━━━━━━━━━━━━━━━\n",
       "│ DistributionLoad     │ SingleTimeSeries │ 2020-01-01 00:00:00 │    0:15:00 │              2 │                  4 \n",
       "│ DistributionSolar    │ SingleTimeSeries │ 2020-01-01 00:00:00 │    0:15:00 │              2 │                  2 \n",
       "└──────────────────────┴──────────────────┴─────────────────────┴────────────┴────────────────┴────────────────────\n"
      ]
     },
     "metadata": {},
     "output_type": "display_data"
    }
   ],
   "source": [
    "distribution_system.name = \"P5R\"\n",
    "distribution_system.info()"
   ]
  }
 ],
 "metadata": {
  "kernelspec": {
   "display_name": "gdm2",
   "language": "python",
   "name": "python3"
  },
  "language_info": {
   "codemirror_mode": {
    "name": "ipython",
    "version": 3
   },
   "file_extension": ".py",
   "mimetype": "text/x-python",
   "name": "python",
   "nbconvert_exporter": "python",
   "pygments_lexer": "ipython3",
   "version": "3.12.0"
  },
  "widgets": {
   "application/vnd.jupyter.widget-state+json": {
    "state": {},
    "version_major": 2,
    "version_minor": 0
   }
  }
 },
 "nbformat": 4,
 "nbformat_minor": 4
}