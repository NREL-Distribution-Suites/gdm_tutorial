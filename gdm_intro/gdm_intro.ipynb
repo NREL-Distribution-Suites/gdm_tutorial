{
 "cells": [
  {
   "cell_type": "markdown",
   "metadata": {},
   "source": [
    "# The GDM Package\n",
    "\n",
    "GDM is a Python package containing data models for distribution system assets and datasets. This package is actively being developed at [National Renewable Energy Laboratory (NREL)](https://www.nrel.gov/).\n",
    "\n",
    "## Why Grid Data Models?\n",
    "\n",
    "To reduce code duplication and provide client packages with a standard interface to interact with power system data, a group of research engineers at NREL is developing standard data models. Features include:\n",
    "\n",
    "- **Built-in Validation Layer:** The use of [pydantic](https://docs.pydantic.dev/latest/) allows for the validation of model fields.\n",
    "- **Time Series Data Management:** GDM uses the [infrasys](https://github.nrel.gov/CADET/infrastructure_systems) package, enabling [efficient time series data management](https://nrel.github.io/infrasys/explanation/time_series.html) by sharing arrays across components and offloading system memory. For example, time series power consumption data can be attached to a load profile.\n",
    "- **Built-in Unit Conversion:** GDM leverages [pint](https://pint.readthedocs.io/en/stable/) for unit conversion of power system quantities, such as power, voltage, and time.\n",
    "- **JSON Serialization/Deserialization:** GDM uses [infrasys](https://github.com/NREL/infrasys) to serialize and deserialize distribution system components to/from JSON.\n",
    "- **Track System Changes:** Supports tracking changes within a distribution model (both temporal and scenario-based static updates), enabling powerful scenario management capabilities.\n",
    "- **Graph-Based Analysis:** Exposes a connectivity graph using NetworkX, allowing advanced graph-based algorithms and visualizations.\n",
    "- **Model Reduction:** Built-in support for multiple model reduction algorithms.\n",
    "- **Interoperability:** Easily integrates with existing tools.\n",
    "\n",
    "## The GDM Ecosystem\n",
    "\n",
    "- **Grid-Data-Models:** Foundational models for distribution system analysis.\n",
    "- **Shift:** Builds synthetic distribution models in GDM format.\n",
    "- **DiTto:** Model conversion framework, refactored with GDM models now representing DiTto core.\n",
    "- **ERAD:** Resilience analysis of distribution systems, taking in hazard models and GDM models as input.\n",
    "- **Cadet-OPT / Cadet-MDAO:** Distribution system optimization frameworks.\n",
    "- **GridAI:** Builds training datasets for PyTorch for generative AI applications from GDM base models.\n",
    "- **GridDB:** Distribution asset cost database, currently being built, will map to GDM equipment models.\n",
    "- **DistLLM:** LLM interface for the entire distribution suite ecosystem.\n",
    "\n",
    "## Need More Information?\n",
    "\n",
    "GDM documentation can be accessed [here](https://nrel-distribution-suites.github.io/grid-data-models/).\n"
   ]
  },
  {
   "cell_type": "markdown",
   "metadata": {},
   "source": []
  }
 ],
 "metadata": {
  "kernelspec": {
   "display_name": "Python 3",
   "language": "python",
   "name": "python3"
  },
  "language_info": {
   "codemirror_mode": {
    "name": "ipython",
    "version": 3
   },
   "file_extension": ".py",
   "mimetype": "text/x-python",
   "name": "python",
   "nbconvert_exporter": "python",
   "pygments_lexer": "ipython3",
   "version": "3.8.0"
  },
  "widgets": {
   "application/vnd.jupyter.widget-state+json": {
    "state": {},
    "version_major": 2,
    "version_minor": 0
   }
  }
 },
 "nbformat": 4,
 "nbformat_minor": 4
}
