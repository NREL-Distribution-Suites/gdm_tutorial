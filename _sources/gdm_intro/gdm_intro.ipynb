{
 "cells": [
  {
   "cell_type": "markdown",
   "metadata": {},
   "source": [
    "# Development Background\n"
   ]
  },
  {
   "cell_type": "markdown",
   "metadata": {},
   "source": [
    "## Distribution System Analysis Tools\n",
    "\n",
    "SHIFT, ERAD, DISCO, PyDSS, EVOLVE, DITTO, EMERGE, (DG)^2, PRECISE, OEDISI, GET-solar, ...\n",
    "\n",
    "- Software ecosystem predominantly developed in Python\n",
    "- Initial developments project-focused\n",
    "- Each tool has its own model and interface\n",
    "- In most cases, not easy to explore, serialize and share models\n"
   ]
  },
  {
   "cell_type": "markdown",
   "metadata": {},
   "source": [
    "## Interface requirements\n",
    "- Easy to serialize / deserialize models\n",
    "- Handles both static and time-series data\n",
    "- Easy to explore\n",
    "- Agnostic to energy domain"
   ]
  },
  {
   "cell_type": "markdown",
   "metadata": {},
   "source": [
    "# Infrastructure Systems\n",
    "\n",
    "- Data store for components and associated time series data\n",
    "- Built for Python-based modeling packages\n",
    "- Stores components in data structures that provide fast lookup and iteration by type and name.\n",
    "- Provides extendable data models that enable validation and unit conversion through PINT.\n",
    "- Manages time series data efficiently. Manages serialization and de-serialization of components to JSON\n",
    "- Automatic handling of nested objects.\n"
   ]
  },
  {
   "cell_type": "markdown",
   "metadata": {},
   "source": [
    "# The GDM Package\n",
    "\n",
    "GDM is a Python package containing data models for distribution system assets and datasets. This package is actively being developed at the [National Renewable Energy Laboratory (NREL)](https://www.nrel.gov/).\n",
    "\n",
    "## Why Grid Data Models?\n",
    "Distribution models typically contain many components, making them difficult to explore and to resolve modeling errors.  Developing \"one-off\" data models for tools leads to code duplicaton and limits code extensibility.  Using a single data model for tool development can help.  Additionally, GDM has several features can help with the development of distribution modeling tools:\n",
    "\n",
    "- **Built-in Validation Layer:** The use of [pydantic](https://docs.pydantic.dev/latest/) allows for the validation of data models.\n",
    "- **Time Series Data Management:** GDM uses the [infrasys](https://github.nrel.gov/CADET/infrastructure_systems) package, enabling [efficient time series data management](https://nrel.github.io/infrasys/explanation/time_series.html) by sharing arrays across components and offloading system memory. For example, time series power consumption data can be attached to a load profile.\n",
    "- **Built-in Unit Conversion:** GDM leverages [pint](https://pint.readthedocs.io/en/stable/) for unit conversion of power system quantities, such as power, voltage, and time.\n",
    "- **JSON Serialization/Deserialization:** GDM uses [infrasys](https://github.com/NREL/infrasys) to serialize and deserialize distribution system components to/from JSON.\n",
    "- **Track System Changes:** Supports tracking changes within a distribution model (both temporal and scenario-based static updates), enabling powerful scenario management capabilities.\n",
    "- **Graph-Based Analysis:** Exposes a connectivity graph using NetworkX, allowing advanced graph-based algorithms and visualizations.\n",
    "- **Model Reduction:** Built-in support for multiple model reduction algorithms.\n",
    "- **Interoperability:** GDM is used by several NREL distribution modeling tools, which enables coordinated workflows between tools. \n",
    "\n",
    "## The GDM Ecosystem\n",
    "The following tools currently use GDM.  \n",
    "\n",
    "- **Grid-Data-Models:** Foundational model for distribution system analysis.\n",
    "- **Shift:** Builds synthetic distribution models and uses the GDM data model.\n",
    "- **DiTTo:** Tool for converting between inputs for different distribution powerflow solvers, using GDM as the interal data model.\n",
    "- **ERAD:** Resilience analysis for distribution systems, using hazard and GDM models as inputs.\n",
    "- **CADET:** Distribution system optimization frameworks.\n",
    "- **GridAI:** Builds training datasets for PyTorch for generative AI applications from GDM base models.\n",
    "- **DistDB:** Distribution asset cost database, currently being built, will map to GDM equipment models.\n",
    "- **DistLLM:** LLM interface for the entire distribution suite ecosystem.\n",
    "\n",
    "\n",
    "#### Check out the [GDM Ecosystem](https://nrel-distribution-suites.github.io/distribution_software_suite/)\n",
    "#### Join our [Discord](https://discord.gg/GmXqMmJ88J)"
   ]
  },
  {
   "cell_type": "markdown",
   "metadata": {},
   "source": []
  }
 ],
 "metadata": {
  "kernelspec": {
   "display_name": "Python 3",
   "language": "python",
   "name": "python3"
  },
  "language_info": {
   "codemirror_mode": {
    "name": "ipython",
    "version": 3
   },
   "file_extension": ".py",
   "mimetype": "text/x-python",
   "name": "python",
   "nbconvert_exporter": "python",
   "pygments_lexer": "ipython3",
   "version": "3.8.0"
  },
  "widgets": {
   "application/vnd.jupyter.widget-state+json": {
    "state": {},
    "version_major": 2,
    "version_minor": 0
   }
  }
 },
 "nbformat": 4,
 "nbformat_minor": 4
}
