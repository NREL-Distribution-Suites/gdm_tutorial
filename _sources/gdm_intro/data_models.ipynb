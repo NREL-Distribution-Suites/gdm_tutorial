{
 "cells": [
  {
   "cell_type": "markdown",
   "metadata": {},
   "source": [
    "# GDM Structure\n",
    "\n",
    "GDM currently implements `Infrasys` systems in three different ways:\n",
    "\n",
    "- **DistributionSystem**: A system of models needed to create a power flow model.\n",
    "- **CatalogSystem**: A set of equipment models (e.g., imagine a vendor catalog of transformers).\n",
    "- **StructuralSystem**: Represents distribution components necessary for making distribution networks, excluding those used in powerflow models (e.g., guy wires, poles junction boxes needed for resilience analysis).\n",
    "\n",
    "DistributionSystem and CatalogSystem can be imported from `gdm.distribution`.\n"
   ]
  },
  {
   "cell_type": "code",
   "execution_count": 1,
   "metadata": {},
   "outputs": [
    {
     "name": "stderr",
     "output_type": "stream",
     "text": [
      "/opt/homebrew/Caskroom/miniconda/base/envs/gdm2/lib/python3.12/site-packages/pydantic/_internal/_generate_schema.py:502: UserWarning: Ellipsis is not a Python type (it may be an instance of an object), Pydantic will allow any object with no validation since we cannot even enforce that the input is an instance of the given type. To get rid of this error wrap the type with `pydantic.SkipValidation`.\n",
      "  warn(\n"
     ]
    }
   ],
   "source": [
    "from gdm.distribution import DistributionSystem, CatalogSystem"
   ]
  },
  {
   "cell_type": "markdown",
   "metadata": {},
   "source": [
    "There are three types of data model definitions in GDM:\n",
    "\n",
    "- **Components**: These models represent physical assets distribution system. They include:\n",
    "  - Bus connectivity (e.g., load connection to a bus)\n",
    "  - Model state (e.g., state of switches)\n",
    "  - Model specifics (e.g., length of a line section)\n",
    "  - Equipment: The equipment model this component maps to\n",
    "  - Controller: Controller settings for the connected equipment, which can be None\n",
    "\n",
    "- **Equipment**: These are special types of components that are referenced multiple times by components.  For example, 1/0 aluminum wire is a type of equipment that may be used by multiple distribution line components.  \n",
    "\n",
    "- **Controllers**: These are special types of components that manage the state of a component.  For example, a capacitor controller controls whether a capacitor is switched on or off. \n"
   ]
  },
  {
   "cell_type": "code",
   "execution_count": null,
   "metadata": {},
   "outputs": [],
   "source": [
    "from gdm.distribution.components import DistributionBus, DistributionLoad\n",
    "from gdm.distribution.equipment import LoadEquipment, PhaseLoadEquipment\n",
    "from gdm.distribution.controllers import *"
   ]
  },
  {
   "cell_type": "markdown",
   "metadata": {},
   "source": [
    "## Component Examples\n",
    "\n",
    "All data models have an `example` method that returns an example instance. These can be used to help debug, initialize or build quick and dirty examples. The `pprint` method can be used on an instance to \"pretty-print\" a model. In the example below, bus and load example components are instantiated and connected.   \n"
   ]
  },
  {
   "cell_type": "code",
   "execution_count": 12,
   "metadata": {},
   "outputs": [
    {
     "data": {
      "text/html": [
       "<pre style=\"white-space:pre;overflow-x:auto;line-height:normal;font-family:Menlo,'DejaVu Sans Mono',consolas,'Courier New',monospace\"><span style=\"color: #800080; text-decoration-color: #800080; font-weight: bold\">DistributionBus</span><span style=\"font-weight: bold\">(</span>\n",
       "    <span style=\"color: #808000; text-decoration-color: #808000\">name</span>=<span style=\"color: #008000; text-decoration-color: #008000\">'DistBus1'</span>,\n",
       "    <span style=\"color: #808000; text-decoration-color: #808000\">substation</span>=<span style=\"color: #800080; text-decoration-color: #800080; font-weight: bold\">DistributionSubstation</span><span style=\"font-weight: bold\">(</span><span style=\"color: #808000; text-decoration-color: #808000\">name</span>=<span style=\"color: #008000; text-decoration-color: #008000\">'Test Substation'</span>, <span style=\"color: #808000; text-decoration-color: #808000\">feeders</span>=<span style=\"font-weight: bold\">[</span><span style=\"color: #800080; text-decoration-color: #800080; font-weight: bold\">DistributionFeeder</span><span style=\"font-weight: bold\">(</span><span style=\"color: #808000; text-decoration-color: #808000\">name</span>=<span style=\"color: #008000; text-decoration-color: #008000\">'Test Feeder'</span><span style=\"font-weight: bold\">)])</span>,\n",
       "    <span style=\"color: #808000; text-decoration-color: #808000\">feeder</span>=<span style=\"color: #800080; text-decoration-color: #800080; font-weight: bold\">DistributionFeeder</span><span style=\"font-weight: bold\">(</span><span style=\"color: #808000; text-decoration-color: #808000\">name</span>=<span style=\"color: #008000; text-decoration-color: #008000\">'Test Feeder'</span><span style=\"font-weight: bold\">)</span>,\n",
       "    <span style=\"color: #808000; text-decoration-color: #808000\">voltage_type</span>=<span style=\"font-weight: bold\">&lt;</span><span style=\"color: #ff00ff; text-decoration-color: #ff00ff; font-weight: bold\">VoltageTypes.LINE_TO_LINE:</span><span style=\"color: #000000; text-decoration-color: #000000\"> </span><span style=\"color: #008000; text-decoration-color: #008000\">'line-to-line'</span><span style=\"color: #000000; text-decoration-color: #000000\">&gt;,</span>\n",
       "<span style=\"color: #000000; text-decoration-color: #000000\">    </span><span style=\"color: #808000; text-decoration-color: #808000\">phases</span><span style=\"color: #000000; text-decoration-color: #000000\">=</span><span style=\"color: #000000; text-decoration-color: #000000; font-weight: bold\">[</span><span style=\"color: #000000; text-decoration-color: #000000\">&lt;Phase.A: </span><span style=\"color: #008000; text-decoration-color: #008000\">'A'</span><span style=\"color: #000000; text-decoration-color: #000000\">&gt;, &lt;Phase.B: </span><span style=\"color: #008000; text-decoration-color: #008000\">'B'</span><span style=\"color: #000000; text-decoration-color: #000000\">&gt;, &lt;Phase.C: </span><span style=\"color: #008000; text-decoration-color: #008000\">'C'</span><span style=\"color: #000000; text-decoration-color: #000000\">&gt;</span><span style=\"color: #000000; text-decoration-color: #000000; font-weight: bold\">]</span><span style=\"color: #000000; text-decoration-color: #000000\">,</span>\n",
       "<span style=\"color: #000000; text-decoration-color: #000000\">    </span><span style=\"color: #808000; text-decoration-color: #808000\">voltagelimits</span><span style=\"color: #000000; text-decoration-color: #000000\">=</span><span style=\"color: #000000; text-decoration-color: #000000; font-weight: bold\">[</span>\n",
       "<span style=\"color: #000000; text-decoration-color: #000000\">        </span><span style=\"color: #800080; text-decoration-color: #800080; font-weight: bold\">VoltageLimitSet</span><span style=\"color: #000000; text-decoration-color: #000000; font-weight: bold\">(</span><span style=\"color: #808000; text-decoration-color: #808000\">name</span><span style=\"color: #000000; text-decoration-color: #000000\">=</span><span style=\"color: #008000; text-decoration-color: #008000\">''</span><span style=\"color: #000000; text-decoration-color: #000000\">, </span><span style=\"color: #808000; text-decoration-color: #808000\">limit_type</span><span style=\"color: #000000; text-decoration-color: #000000\">=&lt;LimitType.MIN: </span><span style=\"color: #008000; text-decoration-color: #008000\">'min'</span><span style=\"color: #000000; text-decoration-color: #000000\">&gt;, </span><span style=\"color: #808000; text-decoration-color: #808000\">value</span><span style=\"color: #000000; text-decoration-color: #000000\">=&lt;</span><span style=\"color: #800080; text-decoration-color: #800080; font-weight: bold\">Quantity</span><span style=\"color: #000000; text-decoration-color: #000000; font-weight: bold\">(</span><span style=\"color: #008080; text-decoration-color: #008080; font-weight: bold\">360.0</span><span style=\"color: #000000; text-decoration-color: #000000\">, </span><span style=\"color: #008000; text-decoration-color: #008000\">'volt'</span><span style=\"color: #000000; text-decoration-color: #000000; font-weight: bold\">)</span><span style=\"color: #000000; text-decoration-color: #000000\">&gt;</span><span style=\"color: #000000; text-decoration-color: #000000; font-weight: bold\">)</span><span style=\"color: #000000; text-decoration-color: #000000\">,</span>\n",
       "<span style=\"color: #000000; text-decoration-color: #000000\">        </span><span style=\"color: #800080; text-decoration-color: #800080; font-weight: bold\">VoltageLimitSet</span><span style=\"color: #000000; text-decoration-color: #000000; font-weight: bold\">(</span><span style=\"color: #808000; text-decoration-color: #808000\">name</span><span style=\"color: #000000; text-decoration-color: #000000\">=</span><span style=\"color: #008000; text-decoration-color: #008000\">''</span><span style=\"color: #000000; text-decoration-color: #000000\">, </span><span style=\"color: #808000; text-decoration-color: #808000\">limit_type</span><span style=\"color: #000000; text-decoration-color: #000000\">=&lt;LimitType.MAX: </span><span style=\"color: #008000; text-decoration-color: #008000\">'max'</span><span style=\"color: #000000; text-decoration-color: #000000\">&gt;, </span><span style=\"color: #808000; text-decoration-color: #808000\">value</span><span style=\"color: #000000; text-decoration-color: #000000\">=&lt;</span><span style=\"color: #800080; text-decoration-color: #800080; font-weight: bold\">Quantity</span><span style=\"color: #000000; text-decoration-color: #000000; font-weight: bold\">(</span><span style=\"color: #008080; text-decoration-color: #008080; font-weight: bold\">440.0</span><span style=\"color: #000000; text-decoration-color: #000000\">, </span><span style=\"color: #008000; text-decoration-color: #008000\">'volt'</span><span style=\"color: #000000; text-decoration-color: #000000; font-weight: bold\">)</span><span style=\"color: #000000; text-decoration-color: #000000\">&gt;</span><span style=\"color: #000000; text-decoration-color: #000000; font-weight: bold\">)</span>\n",
       "<span style=\"color: #000000; text-decoration-color: #000000\">    </span><span style=\"color: #000000; text-decoration-color: #000000; font-weight: bold\">]</span><span style=\"color: #000000; text-decoration-color: #000000\">,</span>\n",
       "<span style=\"color: #000000; text-decoration-color: #000000\">    </span><span style=\"color: #808000; text-decoration-color: #808000\">rated_voltage</span><span style=\"color: #000000; text-decoration-color: #000000\">=&lt;</span><span style=\"color: #800080; text-decoration-color: #800080; font-weight: bold\">Quantity</span><span style=\"color: #000000; text-decoration-color: #000000; font-weight: bold\">(</span><span style=\"color: #008080; text-decoration-color: #008080; font-weight: bold\">400</span><span style=\"color: #000000; text-decoration-color: #000000\">, </span><span style=\"color: #008000; text-decoration-color: #008000\">'volt'</span><span style=\"color: #000000; text-decoration-color: #000000; font-weight: bold\">)</span><span style=\"font-weight: bold\">&gt;</span>,\n",
       "    <span style=\"color: #808000; text-decoration-color: #808000\">coordinate</span>=<span style=\"color: #800080; text-decoration-color: #800080; font-weight: bold\">Location</span><span style=\"font-weight: bold\">(</span><span style=\"color: #808000; text-decoration-color: #808000\">name</span>=<span style=\"color: #008000; text-decoration-color: #008000\">''</span>, <span style=\"color: #808000; text-decoration-color: #808000\">x</span>=<span style=\"color: #008080; text-decoration-color: #008080; font-weight: bold\">20.0</span>, <span style=\"color: #808000; text-decoration-color: #808000\">y</span>=<span style=\"color: #008080; text-decoration-color: #008080; font-weight: bold\">30.0</span>, <span style=\"color: #808000; text-decoration-color: #808000\">crs</span>=<span style=\"color: #800080; text-decoration-color: #800080; font-style: italic\">None</span><span style=\"font-weight: bold\">)</span>\n",
       "<span style=\"font-weight: bold\">)</span>\n",
       "</pre>\n"
      ],
      "text/plain": [
       "\u001b[1;35mDistributionBus\u001b[0m\u001b[1m(\u001b[0m\n",
       "    \u001b[33mname\u001b[0m=\u001b[32m'DistBus1'\u001b[0m,\n",
       "    \u001b[33msubstation\u001b[0m=\u001b[1;35mDistributionSubstation\u001b[0m\u001b[1m(\u001b[0m\u001b[33mname\u001b[0m=\u001b[32m'Test Substation'\u001b[0m, \u001b[33mfeeders\u001b[0m=\u001b[1m[\u001b[0m\u001b[1;35mDistributionFeeder\u001b[0m\u001b[1m(\u001b[0m\u001b[33mname\u001b[0m=\u001b[32m'Test Feeder'\u001b[0m\u001b[1m)\u001b[0m\u001b[1m]\u001b[0m\u001b[1m)\u001b[0m,\n",
       "    \u001b[33mfeeder\u001b[0m=\u001b[1;35mDistributionFeeder\u001b[0m\u001b[1m(\u001b[0m\u001b[33mname\u001b[0m=\u001b[32m'Test Feeder'\u001b[0m\u001b[1m)\u001b[0m,\n",
       "    \u001b[33mvoltage_type\u001b[0m=\u001b[1m<\u001b[0m\u001b[1;95mVoltageTypes.LINE_TO_LINE:\u001b[0m\u001b[39m \u001b[0m\u001b[32m'line-to-line'\u001b[0m\u001b[39m>,\u001b[0m\n",
       "\u001b[39m    \u001b[0m\u001b[33mphases\u001b[0m\u001b[39m=\u001b[0m\u001b[1;39m[\u001b[0m\u001b[39m<Phase.A: \u001b[0m\u001b[32m'A'\u001b[0m\u001b[39m>, <Phase.B: \u001b[0m\u001b[32m'B'\u001b[0m\u001b[39m>, <Phase.C: \u001b[0m\u001b[32m'C'\u001b[0m\u001b[39m>\u001b[0m\u001b[1;39m]\u001b[0m\u001b[39m,\u001b[0m\n",
       "\u001b[39m    \u001b[0m\u001b[33mvoltagelimits\u001b[0m\u001b[39m=\u001b[0m\u001b[1;39m[\u001b[0m\n",
       "\u001b[39m        \u001b[0m\u001b[1;35mVoltageLimitSet\u001b[0m\u001b[1;39m(\u001b[0m\u001b[33mname\u001b[0m\u001b[39m=\u001b[0m\u001b[32m''\u001b[0m\u001b[39m, \u001b[0m\u001b[33mlimit_type\u001b[0m\u001b[39m=<LimitType.MIN: \u001b[0m\u001b[32m'min'\u001b[0m\u001b[39m>, \u001b[0m\u001b[33mvalue\u001b[0m\u001b[39m=<\u001b[0m\u001b[1;35mQuantity\u001b[0m\u001b[1;39m(\u001b[0m\u001b[1;36m360.0\u001b[0m\u001b[39m, \u001b[0m\u001b[32m'volt'\u001b[0m\u001b[1;39m)\u001b[0m\u001b[39m>\u001b[0m\u001b[1;39m)\u001b[0m\u001b[39m,\u001b[0m\n",
       "\u001b[39m        \u001b[0m\u001b[1;35mVoltageLimitSet\u001b[0m\u001b[1;39m(\u001b[0m\u001b[33mname\u001b[0m\u001b[39m=\u001b[0m\u001b[32m''\u001b[0m\u001b[39m, \u001b[0m\u001b[33mlimit_type\u001b[0m\u001b[39m=<LimitType.MAX: \u001b[0m\u001b[32m'max'\u001b[0m\u001b[39m>, \u001b[0m\u001b[33mvalue\u001b[0m\u001b[39m=<\u001b[0m\u001b[1;35mQuantity\u001b[0m\u001b[1;39m(\u001b[0m\u001b[1;36m440.0\u001b[0m\u001b[39m, \u001b[0m\u001b[32m'volt'\u001b[0m\u001b[1;39m)\u001b[0m\u001b[39m>\u001b[0m\u001b[1;39m)\u001b[0m\n",
       "\u001b[39m    \u001b[0m\u001b[1;39m]\u001b[0m\u001b[39m,\u001b[0m\n",
       "\u001b[39m    \u001b[0m\u001b[33mrated_voltage\u001b[0m\u001b[39m=<\u001b[0m\u001b[1;35mQuantity\u001b[0m\u001b[1;39m(\u001b[0m\u001b[1;36m400\u001b[0m\u001b[39m, \u001b[0m\u001b[32m'volt'\u001b[0m\u001b[1;39m)\u001b[0m\u001b[1m>\u001b[0m,\n",
       "    \u001b[33mcoordinate\u001b[0m=\u001b[1;35mLocation\u001b[0m\u001b[1m(\u001b[0m\u001b[33mname\u001b[0m=\u001b[32m''\u001b[0m, \u001b[33mx\u001b[0m=\u001b[1;36m20\u001b[0m\u001b[1;36m.0\u001b[0m, \u001b[33my\u001b[0m=\u001b[1;36m30\u001b[0m\u001b[1;36m.0\u001b[0m, \u001b[33mcrs\u001b[0m=\u001b[3;35mNone\u001b[0m\u001b[1m)\u001b[0m\n",
       "\u001b[1m)\u001b[0m\n"
      ]
     },
     "metadata": {},
     "output_type": "display_data"
    }
   ],
   "source": [
    "bus = DistributionBus.example()\n",
    "load = DistributionLoad.example()\n",
    "load.bus = bus\n",
    "\n",
    "bus.pprint()"
   ]
  },
  {
   "cell_type": "markdown",
   "metadata": {},
   "source": [
    "## Building a System\n",
    "\n",
    "Models can be added to a DistributionSystem using the `add_component` and `add_components` methods. Setting `auto_add_composed_components` to True can help with adding nested models.  For example, `DistributionBus` is a nested component in the `DistributionLoad` component that was created above. Using `auto_add_composed_components` avoids a separate `add_component` function call for the `DistributionBus`and other components.  \n"
   ]
  },
  {
   "cell_type": "code",
   "execution_count": 14,
   "metadata": {},
   "outputs": [
    {
     "data": {
      "text/html": [
       "<pre style=\"white-space:pre;overflow-x:auto;line-height:normal;font-family:Menlo,'DejaVu Sans Mono',consolas,'Courier New',monospace\"><span style=\"font-weight: bold\">System                          </span>\n",
       "┏━━━━━━━━━━━━━━━━━━━━━━┳━━━━━━━┓\n",
       "┃<span style=\"font-weight: bold\"> Property             </span>┃<span style=\"font-weight: bold\"> Value </span>┃\n",
       "┡━━━━━━━━━━━━━━━━━━━━━━╇━━━━━━━┩\n",
       "│ System name          │       │\n",
       "│ Data format version  │ 2.0.0 │\n",
       "│ Components attached  │    13 │\n",
       "│ Time Series attached │     0 │\n",
       "│ Description          │       │\n",
       "└──────────────────────┴───────┘\n",
       "</pre>\n"
      ],
      "text/plain": [
       "\u001b[1mSystem                          \u001b[0m\n",
       "┏━━━━━━━━━━━━━━━━━━━━━━┳━━━━━━━┓\n",
       "┃\u001b[1m \u001b[0m\u001b[1mProperty            \u001b[0m\u001b[1m \u001b[0m┃\u001b[1m \u001b[0m\u001b[1mValue\u001b[0m\u001b[1m \u001b[0m┃\n",
       "┡━━━━━━━━━━━━━━━━━━━━━━╇━━━━━━━┩\n",
       "│ System name          │       │\n",
       "│ Data format version  │ 2.0.0 │\n",
       "│ Components attached  │    13 │\n",
       "│ Time Series attached │     0 │\n",
       "│ Description          │       │\n",
       "└──────────────────────┴───────┘\n"
      ]
     },
     "metadata": {},
     "output_type": "display_data"
    },
    {
     "data": {
      "text/html": [
       "<pre style=\"white-space:pre;overflow-x:auto;line-height:normal;font-family:Menlo,'DejaVu Sans Mono',consolas,'Courier New',monospace\"><span style=\"font-weight: bold\">Component Information             </span>\n",
       "┏━━━━━━━━━━━━━━━━━━━━━━━━┳━━━━━━━┓\n",
       "┃<span style=\"font-weight: bold\"> Type                   </span>┃<span style=\"font-weight: bold\"> Count </span>┃\n",
       "┡━━━━━━━━━━━━━━━━━━━━━━━━╇━━━━━━━┩\n",
       "│ DistributionBus        │     1 │\n",
       "│ DistributionFeeder     │     4 │\n",
       "│ DistributionLoad       │     1 │\n",
       "│ DistributionSubstation │     2 │\n",
       "│ LoadEquipment          │     1 │\n",
       "│ Location               │     1 │\n",
       "│ PhaseLoadEquipment     │     1 │\n",
       "│ VoltageLimitSet        │     2 │\n",
       "└────────────────────────┴───────┘\n",
       "</pre>\n"
      ],
      "text/plain": [
       "\u001b[1mComponent Information             \u001b[0m\n",
       "┏━━━━━━━━━━━━━━━━━━━━━━━━┳━━━━━━━┓\n",
       "┃\u001b[1m \u001b[0m\u001b[1mType                  \u001b[0m\u001b[1m \u001b[0m┃\u001b[1m \u001b[0m\u001b[1mCount\u001b[0m\u001b[1m \u001b[0m┃\n",
       "┡━━━━━━━━━━━━━━━━━━━━━━━━╇━━━━━━━┩\n",
       "│ DistributionBus        │     1 │\n",
       "│ DistributionFeeder     │     4 │\n",
       "│ DistributionLoad       │     1 │\n",
       "│ DistributionSubstation │     2 │\n",
       "│ LoadEquipment          │     1 │\n",
       "│ Location               │     1 │\n",
       "│ PhaseLoadEquipment     │     1 │\n",
       "│ VoltageLimitSet        │     2 │\n",
       "└────────────────────────┴───────┘\n"
      ]
     },
     "metadata": {},
     "output_type": "display_data"
    }
   ],
   "source": [
    "system = DistributionSystem(auto_add_composed_components = True)\n",
    "system.add_component(load)\n",
    "system.info()"
   ]
  },
  {
   "cell_type": "markdown",
   "metadata": {},
   "source": [
    "## Exploring GDM Systems\n",
    "\n",
    "GDM has helper functions to explore system models.\n"
   ]
  },
  {
   "cell_type": "code",
   "execution_count": null,
   "metadata": {},
   "outputs": [
    {
     "name": "stdout",
     "output_type": "stream",
     "text": [
      "has_bus=True\n",
      "has_capacitor=False\n"
     ]
    }
   ],
   "source": [
    "from gdm.distribution.components import DistributionCapacitor\n",
    "\n",
    "capacitor = DistributionCapacitor.example()\n",
    "\n",
    "has_bus = system.has_component(bus)\n",
    "print(f\"{has_bus=}\")\n",
    "has_capacitor= system.has_component(capacitor)\n",
    "print(f\"{has_capacitor=}\")"
   ]
  },
  {
   "cell_type": "markdown",
   "metadata": {},
   "source": [
    "Data models can be retrieved from the system using the `get_component` and `get_components` methods. These methods can also utilize filter functions to offer powerful filtering capabilities to users.\n"
   ]
  },
  {
   "cell_type": "code",
   "execution_count": null,
   "metadata": {},
   "outputs": [
    {
     "data": {
      "text/html": [
       "<pre style=\"white-space:pre;overflow-x:auto;line-height:normal;font-family:Menlo,'DejaVu Sans Mono',consolas,'Courier New',monospace\"><span style=\"color: #800080; text-decoration-color: #800080; font-weight: bold\">DistributionBus</span><span style=\"font-weight: bold\">(</span>\n",
       "    <span style=\"color: #808000; text-decoration-color: #808000\">name</span>=<span style=\"color: #008000; text-decoration-color: #008000\">'DistBus1'</span>,\n",
       "    <span style=\"color: #808000; text-decoration-color: #808000\">substation</span>=<span style=\"color: #800080; text-decoration-color: #800080; font-weight: bold\">DistributionSubstation</span><span style=\"font-weight: bold\">(</span><span style=\"color: #808000; text-decoration-color: #808000\">name</span>=<span style=\"color: #008000; text-decoration-color: #008000\">'Test Substation'</span>, <span style=\"color: #808000; text-decoration-color: #808000\">feeders</span>=<span style=\"font-weight: bold\">[</span><span style=\"color: #800080; text-decoration-color: #800080; font-weight: bold\">DistributionFeeder</span><span style=\"font-weight: bold\">(</span><span style=\"color: #808000; text-decoration-color: #808000\">name</span>=<span style=\"color: #008000; text-decoration-color: #008000\">'Test Feeder'</span><span style=\"font-weight: bold\">)])</span>,\n",
       "    <span style=\"color: #808000; text-decoration-color: #808000\">feeder</span>=<span style=\"color: #800080; text-decoration-color: #800080; font-weight: bold\">DistributionFeeder</span><span style=\"font-weight: bold\">(</span><span style=\"color: #808000; text-decoration-color: #808000\">name</span>=<span style=\"color: #008000; text-decoration-color: #008000\">'Test Feeder'</span><span style=\"font-weight: bold\">)</span>,\n",
       "    <span style=\"color: #808000; text-decoration-color: #808000\">voltage_type</span>=<span style=\"font-weight: bold\">&lt;</span><span style=\"color: #ff00ff; text-decoration-color: #ff00ff; font-weight: bold\">VoltageTypes.LINE_TO_LINE:</span><span style=\"color: #000000; text-decoration-color: #000000\"> </span><span style=\"color: #008000; text-decoration-color: #008000\">'line-to-line'</span><span style=\"color: #000000; text-decoration-color: #000000\">&gt;,</span>\n",
       "<span style=\"color: #000000; text-decoration-color: #000000\">    </span><span style=\"color: #808000; text-decoration-color: #808000\">phases</span><span style=\"color: #000000; text-decoration-color: #000000\">=</span><span style=\"color: #000000; text-decoration-color: #000000; font-weight: bold\">[</span><span style=\"color: #000000; text-decoration-color: #000000\">&lt;Phase.A: </span><span style=\"color: #008000; text-decoration-color: #008000\">'A'</span><span style=\"color: #000000; text-decoration-color: #000000\">&gt;, &lt;Phase.B: </span><span style=\"color: #008000; text-decoration-color: #008000\">'B'</span><span style=\"color: #000000; text-decoration-color: #000000\">&gt;, &lt;Phase.C: </span><span style=\"color: #008000; text-decoration-color: #008000\">'C'</span><span style=\"color: #000000; text-decoration-color: #000000\">&gt;</span><span style=\"color: #000000; text-decoration-color: #000000; font-weight: bold\">]</span><span style=\"color: #000000; text-decoration-color: #000000\">,</span>\n",
       "<span style=\"color: #000000; text-decoration-color: #000000\">    </span><span style=\"color: #808000; text-decoration-color: #808000\">voltagelimits</span><span style=\"color: #000000; text-decoration-color: #000000\">=</span><span style=\"color: #000000; text-decoration-color: #000000; font-weight: bold\">[</span>\n",
       "<span style=\"color: #000000; text-decoration-color: #000000\">        </span><span style=\"color: #800080; text-decoration-color: #800080; font-weight: bold\">VoltageLimitSet</span><span style=\"color: #000000; text-decoration-color: #000000; font-weight: bold\">(</span><span style=\"color: #808000; text-decoration-color: #808000\">name</span><span style=\"color: #000000; text-decoration-color: #000000\">=</span><span style=\"color: #008000; text-decoration-color: #008000\">''</span><span style=\"color: #000000; text-decoration-color: #000000\">, </span><span style=\"color: #808000; text-decoration-color: #808000\">limit_type</span><span style=\"color: #000000; text-decoration-color: #000000\">=&lt;LimitType.MIN: </span><span style=\"color: #008000; text-decoration-color: #008000\">'min'</span><span style=\"color: #000000; text-decoration-color: #000000\">&gt;, </span><span style=\"color: #808000; text-decoration-color: #808000\">value</span><span style=\"color: #000000; text-decoration-color: #000000\">=&lt;</span><span style=\"color: #800080; text-decoration-color: #800080; font-weight: bold\">Quantity</span><span style=\"color: #000000; text-decoration-color: #000000; font-weight: bold\">(</span><span style=\"color: #008080; text-decoration-color: #008080; font-weight: bold\">360.0</span><span style=\"color: #000000; text-decoration-color: #000000\">, </span><span style=\"color: #008000; text-decoration-color: #008000\">'volt'</span><span style=\"color: #000000; text-decoration-color: #000000; font-weight: bold\">)</span><span style=\"color: #000000; text-decoration-color: #000000\">&gt;</span><span style=\"color: #000000; text-decoration-color: #000000; font-weight: bold\">)</span><span style=\"color: #000000; text-decoration-color: #000000\">,</span>\n",
       "<span style=\"color: #000000; text-decoration-color: #000000\">        </span><span style=\"color: #800080; text-decoration-color: #800080; font-weight: bold\">VoltageLimitSet</span><span style=\"color: #000000; text-decoration-color: #000000; font-weight: bold\">(</span><span style=\"color: #808000; text-decoration-color: #808000\">name</span><span style=\"color: #000000; text-decoration-color: #000000\">=</span><span style=\"color: #008000; text-decoration-color: #008000\">''</span><span style=\"color: #000000; text-decoration-color: #000000\">, </span><span style=\"color: #808000; text-decoration-color: #808000\">limit_type</span><span style=\"color: #000000; text-decoration-color: #000000\">=&lt;LimitType.MAX: </span><span style=\"color: #008000; text-decoration-color: #008000\">'max'</span><span style=\"color: #000000; text-decoration-color: #000000\">&gt;, </span><span style=\"color: #808000; text-decoration-color: #808000\">value</span><span style=\"color: #000000; text-decoration-color: #000000\">=&lt;</span><span style=\"color: #800080; text-decoration-color: #800080; font-weight: bold\">Quantity</span><span style=\"color: #000000; text-decoration-color: #000000; font-weight: bold\">(</span><span style=\"color: #008080; text-decoration-color: #008080; font-weight: bold\">440.0</span><span style=\"color: #000000; text-decoration-color: #000000\">, </span><span style=\"color: #008000; text-decoration-color: #008000\">'volt'</span><span style=\"color: #000000; text-decoration-color: #000000; font-weight: bold\">)</span><span style=\"color: #000000; text-decoration-color: #000000\">&gt;</span><span style=\"color: #000000; text-decoration-color: #000000; font-weight: bold\">)</span>\n",
       "<span style=\"color: #000000; text-decoration-color: #000000\">    </span><span style=\"color: #000000; text-decoration-color: #000000; font-weight: bold\">]</span><span style=\"color: #000000; text-decoration-color: #000000\">,</span>\n",
       "<span style=\"color: #000000; text-decoration-color: #000000\">    </span><span style=\"color: #808000; text-decoration-color: #808000\">rated_voltage</span><span style=\"color: #000000; text-decoration-color: #000000\">=&lt;</span><span style=\"color: #800080; text-decoration-color: #800080; font-weight: bold\">Quantity</span><span style=\"color: #000000; text-decoration-color: #000000; font-weight: bold\">(</span><span style=\"color: #008080; text-decoration-color: #008080; font-weight: bold\">400</span><span style=\"color: #000000; text-decoration-color: #000000\">, </span><span style=\"color: #008000; text-decoration-color: #008000\">'volt'</span><span style=\"color: #000000; text-decoration-color: #000000; font-weight: bold\">)</span><span style=\"font-weight: bold\">&gt;</span>,\n",
       "    <span style=\"color: #808000; text-decoration-color: #808000\">coordinate</span>=<span style=\"color: #800080; text-decoration-color: #800080; font-weight: bold\">Location</span><span style=\"font-weight: bold\">(</span><span style=\"color: #808000; text-decoration-color: #808000\">name</span>=<span style=\"color: #008000; text-decoration-color: #008000\">''</span>, <span style=\"color: #808000; text-decoration-color: #808000\">x</span>=<span style=\"color: #008080; text-decoration-color: #008080; font-weight: bold\">20.0</span>, <span style=\"color: #808000; text-decoration-color: #808000\">y</span>=<span style=\"color: #008080; text-decoration-color: #008080; font-weight: bold\">30.0</span>, <span style=\"color: #808000; text-decoration-color: #808000\">crs</span>=<span style=\"color: #800080; text-decoration-color: #800080; font-style: italic\">None</span><span style=\"font-weight: bold\">)</span>\n",
       "<span style=\"font-weight: bold\">)</span>\n",
       "</pre>\n"
      ],
      "text/plain": [
       "\u001b[1;35mDistributionBus\u001b[0m\u001b[1m(\u001b[0m\n",
       "    \u001b[33mname\u001b[0m=\u001b[32m'DistBus1'\u001b[0m,\n",
       "    \u001b[33msubstation\u001b[0m=\u001b[1;35mDistributionSubstation\u001b[0m\u001b[1m(\u001b[0m\u001b[33mname\u001b[0m=\u001b[32m'Test Substation'\u001b[0m, \u001b[33mfeeders\u001b[0m=\u001b[1m[\u001b[0m\u001b[1;35mDistributionFeeder\u001b[0m\u001b[1m(\u001b[0m\u001b[33mname\u001b[0m=\u001b[32m'Test Feeder'\u001b[0m\u001b[1m)\u001b[0m\u001b[1m]\u001b[0m\u001b[1m)\u001b[0m,\n",
       "    \u001b[33mfeeder\u001b[0m=\u001b[1;35mDistributionFeeder\u001b[0m\u001b[1m(\u001b[0m\u001b[33mname\u001b[0m=\u001b[32m'Test Feeder'\u001b[0m\u001b[1m)\u001b[0m,\n",
       "    \u001b[33mvoltage_type\u001b[0m=\u001b[1m<\u001b[0m\u001b[1;95mVoltageTypes.LINE_TO_LINE:\u001b[0m\u001b[39m \u001b[0m\u001b[32m'line-to-line'\u001b[0m\u001b[39m>,\u001b[0m\n",
       "\u001b[39m    \u001b[0m\u001b[33mphases\u001b[0m\u001b[39m=\u001b[0m\u001b[1;39m[\u001b[0m\u001b[39m<Phase.A: \u001b[0m\u001b[32m'A'\u001b[0m\u001b[39m>, <Phase.B: \u001b[0m\u001b[32m'B'\u001b[0m\u001b[39m>, <Phase.C: \u001b[0m\u001b[32m'C'\u001b[0m\u001b[39m>\u001b[0m\u001b[1;39m]\u001b[0m\u001b[39m,\u001b[0m\n",
       "\u001b[39m    \u001b[0m\u001b[33mvoltagelimits\u001b[0m\u001b[39m=\u001b[0m\u001b[1;39m[\u001b[0m\n",
       "\u001b[39m        \u001b[0m\u001b[1;35mVoltageLimitSet\u001b[0m\u001b[1;39m(\u001b[0m\u001b[33mname\u001b[0m\u001b[39m=\u001b[0m\u001b[32m''\u001b[0m\u001b[39m, \u001b[0m\u001b[33mlimit_type\u001b[0m\u001b[39m=<LimitType.MIN: \u001b[0m\u001b[32m'min'\u001b[0m\u001b[39m>, \u001b[0m\u001b[33mvalue\u001b[0m\u001b[39m=<\u001b[0m\u001b[1;35mQuantity\u001b[0m\u001b[1;39m(\u001b[0m\u001b[1;36m360.0\u001b[0m\u001b[39m, \u001b[0m\u001b[32m'volt'\u001b[0m\u001b[1;39m)\u001b[0m\u001b[39m>\u001b[0m\u001b[1;39m)\u001b[0m\u001b[39m,\u001b[0m\n",
       "\u001b[39m        \u001b[0m\u001b[1;35mVoltageLimitSet\u001b[0m\u001b[1;39m(\u001b[0m\u001b[33mname\u001b[0m\u001b[39m=\u001b[0m\u001b[32m''\u001b[0m\u001b[39m, \u001b[0m\u001b[33mlimit_type\u001b[0m\u001b[39m=<LimitType.MAX: \u001b[0m\u001b[32m'max'\u001b[0m\u001b[39m>, \u001b[0m\u001b[33mvalue\u001b[0m\u001b[39m=<\u001b[0m\u001b[1;35mQuantity\u001b[0m\u001b[1;39m(\u001b[0m\u001b[1;36m440.0\u001b[0m\u001b[39m, \u001b[0m\u001b[32m'volt'\u001b[0m\u001b[1;39m)\u001b[0m\u001b[39m>\u001b[0m\u001b[1;39m)\u001b[0m\n",
       "\u001b[39m    \u001b[0m\u001b[1;39m]\u001b[0m\u001b[39m,\u001b[0m\n",
       "\u001b[39m    \u001b[0m\u001b[33mrated_voltage\u001b[0m\u001b[39m=<\u001b[0m\u001b[1;35mQuantity\u001b[0m\u001b[1;39m(\u001b[0m\u001b[1;36m400\u001b[0m\u001b[39m, \u001b[0m\u001b[32m'volt'\u001b[0m\u001b[1;39m)\u001b[0m\u001b[1m>\u001b[0m,\n",
       "    \u001b[33mcoordinate\u001b[0m=\u001b[1;35mLocation\u001b[0m\u001b[1m(\u001b[0m\u001b[33mname\u001b[0m=\u001b[32m''\u001b[0m, \u001b[33mx\u001b[0m=\u001b[1;36m20\u001b[0m\u001b[1;36m.0\u001b[0m, \u001b[33my\u001b[0m=\u001b[1;36m30\u001b[0m\u001b[1;36m.0\u001b[0m, \u001b[33mcrs\u001b[0m=\u001b[3;35mNone\u001b[0m\u001b[1m)\u001b[0m\n",
       "\u001b[1m)\u001b[0m\n"
      ]
     },
     "metadata": {},
     "output_type": "display_data"
    }
   ],
   "source": [
    "buses = system.get_components(DistributionBus)\n",
    "for bus in buses:\n",
    "    bus.pprint()"
   ]
  },
  {
   "cell_type": "code",
   "execution_count": null,
   "metadata": {},
   "outputs": [],
   "source": [
    "buses = system.get_components(DistributionBus, filter_func=lambda x: x.name==\"not valid name\")\n",
    "for bus in buses:\n",
    "    bus.pprint()"
   ]
  },
  {
   "cell_type": "code",
   "execution_count": null,
   "metadata": {},
   "outputs": [],
   "source": []
  }
 ],
 "metadata": {
  "kernelspec": {
   "display_name": "gdm2",
   "language": "python",
   "name": "python3"
  },
  "language_info": {
   "codemirror_mode": {
    "name": "ipython",
    "version": 3
   },
   "file_extension": ".py",
   "mimetype": "text/x-python",
   "name": "python",
   "nbconvert_exporter": "python",
   "pygments_lexer": "ipython3",
   "version": "3.12.0"
  },
  "widgets": {
   "application/vnd.jupyter.widget-state+json": {
    "state": {},
    "version_major": 2,
    "version_minor": 0
   }
  }
 },
 "nbformat": 4,
 "nbformat_minor": 4
}
