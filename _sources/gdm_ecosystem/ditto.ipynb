{
 "cells": [
  {
   "cell_type": "markdown",
   "metadata": {},
   "source": [
    "# DiTTo\n",
    "\n",
    "DiTTo is the Distribution Transformation Tool. It is an open source tool to convert and modify electrical distribution system models. DiTTo implements a many-to-one-to-many parsing framework, making it modular and robust. The reader modules parse data files of distribution system format (e.g. OpenDSS) and create an object for each electrical component. These objects are stored in a GDM DistributionSystem instance. The writer modules are then used to export the data stored in memory to a selected output distribution system format (e.g. OpenDSS) which are written to disk. \n",
    "\n",
    "For model conversion. We will need to install DiTto. To do that, use the command below"
   ]
  },
  {
   "cell_type": "code",
   "execution_count": null,
   "metadata": {
    "vscode": {
     "languageId": "shellscript"
    }
   },
   "outputs": [
    {
     "name": "stdout",
     "output_type": "stream",
     "text": [
      "Requirement already satisfied: NREL-ditto in /opt/homebrew/Caskroom/miniconda/base/envs/gdm2/lib/python3.12/site-packages (0.0.7)\n",
      "Requirement already satisfied: opendssdirect.py in /opt/homebrew/Caskroom/miniconda/base/envs/gdm2/lib/python3.12/site-packages (0.9.4)\n",
      "Requirement already satisfied: grid-data-models==2.0.0 in /opt/homebrew/Caskroom/miniconda/base/envs/gdm2/lib/python3.12/site-packages (from NREL-ditto) (2.0.0)\n",
      "Requirement already satisfied: nrel-altdss-schema==0.0.1 in /opt/homebrew/Caskroom/miniconda/base/envs/gdm2/lib/python3.12/site-packages (from NREL-ditto) (0.0.1)\n",
      "Requirement already satisfied: rdflib in /opt/homebrew/Caskroom/miniconda/base/envs/gdm2/lib/python3.12/site-packages (from NREL-ditto) (7.1.4)\n",
      "Requirement already satisfied: click~=8.1.7 in /opt/homebrew/Caskroom/miniconda/base/envs/gdm2/lib/python3.12/site-packages (from grid-data-models==2.0.0->NREL-ditto) (8.1.8)\n",
      "Requirement already satisfied: geopandas in /opt/homebrew/Caskroom/miniconda/base/envs/gdm2/lib/python3.12/site-packages (from grid-data-models==2.0.0->NREL-ditto) (1.0.1)\n",
      "Requirement already satisfied: importlib-metadata in /opt/homebrew/Caskroom/miniconda/base/envs/gdm2/lib/python3.12/site-packages (from grid-data-models==2.0.0->NREL-ditto) (8.6.1)\n",
      "Requirement already satisfied: infrasys~=0.4.0 in /opt/homebrew/Caskroom/miniconda/base/envs/gdm2/lib/python3.12/site-packages (from grid-data-models==2.0.0->NREL-ditto) (0.4.0)\n",
      "Requirement already satisfied: networkx in /opt/homebrew/Caskroom/miniconda/base/envs/gdm2/lib/python3.12/site-packages (from grid-data-models==2.0.0->NREL-ditto) (3.4.2)\n",
      "Requirement already satisfied: pandas~=2.2.3 in /opt/homebrew/Caskroom/miniconda/base/envs/gdm2/lib/python3.12/site-packages (from grid-data-models==2.0.0->NREL-ditto) (2.2.3)\n",
      "Requirement already satisfied: plotly in /opt/homebrew/Caskroom/miniconda/base/envs/gdm2/lib/python3.12/site-packages (from grid-data-models==2.0.0->NREL-ditto) (6.0.1)\n",
      "Requirement already satisfied: pydantic~=2.10.6 in /opt/homebrew/Caskroom/miniconda/base/envs/gdm2/lib/python3.12/site-packages (from grid-data-models==2.0.0->NREL-ditto) (2.10.6)\n",
      "Requirement already satisfied: dss-python==0.15.7 in /opt/homebrew/Caskroom/miniconda/base/envs/gdm2/lib/python3.12/site-packages (from opendssdirect.py) (0.15.7)\n",
      "Requirement already satisfied: dss-python-backend==0.14.5 in /opt/homebrew/Caskroom/miniconda/base/envs/gdm2/lib/python3.12/site-packages (from dss-python==0.15.7->opendssdirect.py) (0.14.5)\n",
      "Requirement already satisfied: numpy>=1.21.0 in /opt/homebrew/Caskroom/miniconda/base/envs/gdm2/lib/python3.12/site-packages (from dss-python==0.15.7->opendssdirect.py) (2.2.5)\n",
      "Requirement already satisfied: typing-extensions<5,>=4.5 in /opt/homebrew/Caskroom/miniconda/base/envs/gdm2/lib/python3.12/site-packages (from dss-python==0.15.7->opendssdirect.py) (4.13.2)\n",
      "Requirement already satisfied: cffi>=1.11.2 in /opt/homebrew/Caskroom/miniconda/base/envs/gdm2/lib/python3.12/site-packages (from dss-python-backend==0.14.5->dss-python==0.15.7->opendssdirect.py) (1.17.1)\n",
      "Requirement already satisfied: pyparsing<4,>=2.1.0 in /opt/homebrew/Caskroom/miniconda/base/envs/gdm2/lib/python3.12/site-packages (from rdflib->NREL-ditto) (3.2.3)\n",
      "Requirement already satisfied: loguru~=0.7.2 in /opt/homebrew/Caskroom/miniconda/base/envs/gdm2/lib/python3.12/site-packages (from infrasys~=0.4.0->grid-data-models==2.0.0->NREL-ditto) (0.7.3)\n",
      "Requirement already satisfied: pint~=0.23 in /opt/homebrew/Caskroom/miniconda/base/envs/gdm2/lib/python3.12/site-packages (from infrasys~=0.4.0->grid-data-models==2.0.0->NREL-ditto) (0.24.4)\n",
      "Requirement already satisfied: pyarrow~=19.0 in /opt/homebrew/Caskroom/miniconda/base/envs/gdm2/lib/python3.12/site-packages (from infrasys~=0.4.0->grid-data-models==2.0.0->NREL-ditto) (19.0.1)\n",
      "Requirement already satisfied: rich~=13.7.1 in /opt/homebrew/Caskroom/miniconda/base/envs/gdm2/lib/python3.12/site-packages (from infrasys~=0.4.0->grid-data-models==2.0.0->NREL-ditto) (13.7.1)\n",
      "Requirement already satisfied: python-dateutil>=2.8.2 in /opt/homebrew/Caskroom/miniconda/base/envs/gdm2/lib/python3.12/site-packages (from pandas~=2.2.3->grid-data-models==2.0.0->NREL-ditto) (2.9.0.post0)\n",
      "Requirement already satisfied: pytz>=2020.1 in /opt/homebrew/Caskroom/miniconda/base/envs/gdm2/lib/python3.12/site-packages (from pandas~=2.2.3->grid-data-models==2.0.0->NREL-ditto) (2025.2)\n",
      "Requirement already satisfied: tzdata>=2022.7 in /opt/homebrew/Caskroom/miniconda/base/envs/gdm2/lib/python3.12/site-packages (from pandas~=2.2.3->grid-data-models==2.0.0->NREL-ditto) (2025.2)\n",
      "Requirement already satisfied: annotated-types>=0.6.0 in /opt/homebrew/Caskroom/miniconda/base/envs/gdm2/lib/python3.12/site-packages (from pydantic~=2.10.6->grid-data-models==2.0.0->NREL-ditto) (0.7.0)\n",
      "Requirement already satisfied: pydantic-core==2.27.2 in /opt/homebrew/Caskroom/miniconda/base/envs/gdm2/lib/python3.12/site-packages (from pydantic~=2.10.6->grid-data-models==2.0.0->NREL-ditto) (2.27.2)\n",
      "Requirement already satisfied: pyogrio>=0.7.2 in /opt/homebrew/Caskroom/miniconda/base/envs/gdm2/lib/python3.12/site-packages (from geopandas->grid-data-models==2.0.0->NREL-ditto) (0.10.0)\n",
      "Requirement already satisfied: packaging in /opt/homebrew/Caskroom/miniconda/base/envs/gdm2/lib/python3.12/site-packages (from geopandas->grid-data-models==2.0.0->NREL-ditto) (25.0)\n",
      "Requirement already satisfied: pyproj>=3.3.0 in /opt/homebrew/Caskroom/miniconda/base/envs/gdm2/lib/python3.12/site-packages (from geopandas->grid-data-models==2.0.0->NREL-ditto) (3.7.1)\n",
      "Requirement already satisfied: shapely>=2.0.0 in /opt/homebrew/Caskroom/miniconda/base/envs/gdm2/lib/python3.12/site-packages (from geopandas->grid-data-models==2.0.0->NREL-ditto) (2.1.0)\n",
      "Requirement already satisfied: zipp>=3.20 in /opt/homebrew/Caskroom/miniconda/base/envs/gdm2/lib/python3.12/site-packages (from importlib-metadata->grid-data-models==2.0.0->NREL-ditto) (3.21.0)\n",
      "Requirement already satisfied: narwhals>=1.15.1 in /opt/homebrew/Caskroom/miniconda/base/envs/gdm2/lib/python3.12/site-packages (from plotly->grid-data-models==2.0.0->NREL-ditto) (1.36.0)\n",
      "Requirement already satisfied: pycparser in /opt/homebrew/Caskroom/miniconda/base/envs/gdm2/lib/python3.12/site-packages (from cffi>=1.11.2->dss-python-backend==0.14.5->dss-python==0.15.7->opendssdirect.py) (2.22)\n",
      "Requirement already satisfied: platformdirs>=2.1.0 in /opt/homebrew/Caskroom/miniconda/base/envs/gdm2/lib/python3.12/site-packages (from pint~=0.23->infrasys~=0.4.0->grid-data-models==2.0.0->NREL-ditto) (4.3.7)\n",
      "Requirement already satisfied: flexcache>=0.3 in /opt/homebrew/Caskroom/miniconda/base/envs/gdm2/lib/python3.12/site-packages (from pint~=0.23->infrasys~=0.4.0->grid-data-models==2.0.0->NREL-ditto) (0.3)\n",
      "Requirement already satisfied: flexparser>=0.4 in /opt/homebrew/Caskroom/miniconda/base/envs/gdm2/lib/python3.12/site-packages (from pint~=0.23->infrasys~=0.4.0->grid-data-models==2.0.0->NREL-ditto) (0.4)\n",
      "Requirement already satisfied: certifi in /opt/homebrew/Caskroom/miniconda/base/envs/gdm2/lib/python3.12/site-packages (from pyogrio>=0.7.2->geopandas->grid-data-models==2.0.0->NREL-ditto) (2025.1.31)\n",
      "Requirement already satisfied: six>=1.5 in /opt/homebrew/Caskroom/miniconda/base/envs/gdm2/lib/python3.12/site-packages (from python-dateutil>=2.8.2->pandas~=2.2.3->grid-data-models==2.0.0->NREL-ditto) (1.17.0)\n",
      "Requirement already satisfied: markdown-it-py>=2.2.0 in /opt/homebrew/Caskroom/miniconda/base/envs/gdm2/lib/python3.12/site-packages (from rich~=13.7.1->infrasys~=0.4.0->grid-data-models==2.0.0->NREL-ditto) (3.0.0)\n",
      "Requirement already satisfied: pygments<3.0.0,>=2.13.0 in /opt/homebrew/Caskroom/miniconda/base/envs/gdm2/lib/python3.12/site-packages (from rich~=13.7.1->infrasys~=0.4.0->grid-data-models==2.0.0->NREL-ditto) (2.19.1)\n",
      "Requirement already satisfied: mdurl~=0.1 in /opt/homebrew/Caskroom/miniconda/base/envs/gdm2/lib/python3.12/site-packages (from markdown-it-py>=2.2.0->rich~=13.7.1->infrasys~=0.4.0->grid-data-models==2.0.0->NREL-ditto) (0.1.2)\n",
      "Note: you may need to restart the kernel to use updated packages.\n"
     ]
    }
   ],
   "source": [
    "pip install NREL-ditto opendssdirect.py "
   ]
  },
  {
   "cell_type": "markdown",
   "metadata": {},
   "source": []
  },
  {
   "cell_type": "markdown",
   "metadata": {},
   "source": [
    "We start by loading a sample GDM system using the gdmloader."
   ]
  },
  {
   "cell_type": "code",
   "execution_count": 3,
   "metadata": {},
   "outputs": [],
   "source": [
    "from gdm.distribution import DistributionSystem\n",
    "from gdmloader.constants import GCS_CASE_SOURCE\n",
    "from gdmloader.source import SystemLoader\n",
    "\n",
    "gdm_loader = SystemLoader()\n",
    "gdm_loader.add_source(GCS_CASE_SOURCE)\n",
    "\n",
    "distribution_system: DistributionSystem = gdm_loader.load_dataset(\n",
    "    source_name=GCS_CASE_SOURCE.name, \n",
    "    system_type=DistributionSystem, \n",
    "    dataset_name=\"p5r\",\n",
    ")\n",
    "distribution_system.name = \"P5R\""
   ]
  },
  {
   "cell_type": "markdown",
   "metadata": {},
   "source": [
    "Once installed, a GDM model can be loaded into memory and converted to any of the supported formats using one of ditto writers"
   ]
  },
  {
   "cell_type": "code",
   "execution_count": 7,
   "metadata": {},
   "outputs": [
    {
     "name": "stderr",
     "output_type": "stream",
     "text": [
      "\u001b[32m2025-04-25 09:21:41.724\u001b[0m | \u001b[33m\u001b[1mWARNING \u001b[0m | \u001b[36mditto.writers.opendss.write\u001b[0m:\u001b[36mwrite\u001b[0m:\u001b[36m80\u001b[0m - \u001b[33m\u001b[1mMapper VoltageLimitSetMapper not found. Skipping\u001b[0m\n",
      "\u001b[32m2025-04-25 09:21:41.724\u001b[0m | \u001b[33m\u001b[1mWARNING \u001b[0m | \u001b[36mditto.writers.opendss.write\u001b[0m:\u001b[36mwrite\u001b[0m:\u001b[36m80\u001b[0m - \u001b[33m\u001b[1mMapper LocationMapper not found. Skipping\u001b[0m\n",
      "\u001b[32m2025-04-25 09:21:41.725\u001b[0m | \u001b[33m\u001b[1mWARNING \u001b[0m | \u001b[36mditto.writers.opendss.write\u001b[0m:\u001b[36mwrite\u001b[0m:\u001b[36m80\u001b[0m - \u001b[33m\u001b[1mMapper PhaseVoltageSourceEquipmentMapper not found. Skipping\u001b[0m\n",
      "\u001b[32m2025-04-25 09:21:41.725\u001b[0m | \u001b[33m\u001b[1mWARNING \u001b[0m | \u001b[36mditto.writers.opendss.write\u001b[0m:\u001b[36mwrite\u001b[0m:\u001b[36m80\u001b[0m - \u001b[33m\u001b[1mMapper PhaseLoadEquipmentMapper not found. Skipping\u001b[0m\n",
      "\u001b[32m2025-04-25 09:21:41.725\u001b[0m | \u001b[33m\u001b[1mWARNING \u001b[0m | \u001b[36mditto.writers.opendss.write\u001b[0m:\u001b[36mwrite\u001b[0m:\u001b[36m80\u001b[0m - \u001b[33m\u001b[1mMapper InverterEquipmentMapper not found. Skipping\u001b[0m\n",
      "\u001b[32m2025-04-25 09:21:41.726\u001b[0m | \u001b[33m\u001b[1mWARNING \u001b[0m | \u001b[36mditto.writers.opendss.write\u001b[0m:\u001b[36mwrite\u001b[0m:\u001b[36m80\u001b[0m - \u001b[33m\u001b[1mMapper SolarEquipmentMapper not found. Skipping\u001b[0m\n",
      "\u001b[32m2025-04-25 09:21:41.726\u001b[0m | \u001b[33m\u001b[1mWARNING \u001b[0m | \u001b[36mditto.writers.opendss.write\u001b[0m:\u001b[36mwrite\u001b[0m:\u001b[36m80\u001b[0m - \u001b[33m\u001b[1mMapper WindingEquipmentMapper not found. Skipping\u001b[0m\n",
      "\u001b[32m2025-04-25 09:21:41.726\u001b[0m | \u001b[34m\u001b[1mDEBUG   \u001b[0m | \u001b[36mditto.writers.opendss.write\u001b[0m:\u001b[36mwrite\u001b[0m:\u001b[36m83\u001b[0m - \u001b[34m\u001b[1mMapping components in MatrixImpedanceSwitchEquipmentMapper...\u001b[0m\n",
      "\u001b[32m2025-04-25 09:21:41.726\u001b[0m | \u001b[34m\u001b[1mDEBUG   \u001b[0m | \u001b[36mditto.writers.opendss.write\u001b[0m:\u001b[36mwrite\u001b[0m:\u001b[36m83\u001b[0m - \u001b[34m\u001b[1mMapping components in MatrixImpedanceBranchEquipmentMapper...\u001b[0m\n",
      "\u001b[32m2025-04-25 09:21:41.726\u001b[0m | \u001b[34m\u001b[1mDEBUG   \u001b[0m | \u001b[36mditto.writers.opendss.write\u001b[0m:\u001b[36mwrite\u001b[0m:\u001b[36m83\u001b[0m - \u001b[34m\u001b[1mMapping components in DistributionBusMapper...\u001b[0m\n",
      "\u001b[32m2025-04-25 09:21:41.730\u001b[0m | \u001b[33m\u001b[1mWARNING \u001b[0m | \u001b[36mditto.writers.opendss.write\u001b[0m:\u001b[36mwrite\u001b[0m:\u001b[36m80\u001b[0m - \u001b[33m\u001b[1mMapper VoltageSourceEquipmentMapper not found. Skipping\u001b[0m\n",
      "\u001b[32m2025-04-25 09:21:41.731\u001b[0m | \u001b[33m\u001b[1mWARNING \u001b[0m | \u001b[36mditto.writers.opendss.write\u001b[0m:\u001b[36mwrite\u001b[0m:\u001b[36m80\u001b[0m - \u001b[33m\u001b[1mMapper LoadEquipmentMapper not found. Skipping\u001b[0m\n",
      "\u001b[32m2025-04-25 09:21:41.731\u001b[0m | \u001b[34m\u001b[1mDEBUG   \u001b[0m | \u001b[36mditto.writers.opendss.write\u001b[0m:\u001b[36mwrite\u001b[0m:\u001b[36m83\u001b[0m - \u001b[34m\u001b[1mMapping components in DistributionTransformerEquipmentMapper...\u001b[0m\n",
      "\u001b[32m2025-04-25 09:21:41.731\u001b[0m | \u001b[34m\u001b[1mDEBUG   \u001b[0m | \u001b[36mditto.writers.opendss.write\u001b[0m:\u001b[36mwrite\u001b[0m:\u001b[36m83\u001b[0m - \u001b[34m\u001b[1mMapping components in DistributionVoltageSourceMapper...\u001b[0m\n",
      "\u001b[32m2025-04-25 09:21:41.732\u001b[0m | \u001b[33m\u001b[1mWARNING \u001b[0m | \u001b[36mditto.writers.opendss.write\u001b[0m:\u001b[36mwrite\u001b[0m:\u001b[36m109\u001b[0m - \u001b[33m\u001b[1mEquipment Mapper VoltageSourceEquipmentMapper not found. Skipping\u001b[0m\n",
      "\u001b[32m2025-04-25 09:21:41.733\u001b[0m | \u001b[34m\u001b[1mDEBUG   \u001b[0m | \u001b[36mditto.writers.opendss.write\u001b[0m:\u001b[36mwrite\u001b[0m:\u001b[36m83\u001b[0m - \u001b[34m\u001b[1mMapping components in DistributionLoadMapper...\u001b[0m\n",
      "\u001b[32m2025-04-25 09:21:41.735\u001b[0m | \u001b[33m\u001b[1mWARNING \u001b[0m | \u001b[36mditto.writers.opendss.write\u001b[0m:\u001b[36mwrite\u001b[0m:\u001b[36m109\u001b[0m - \u001b[33m\u001b[1mEquipment Mapper LoadEquipmentMapper not found. Skipping\u001b[0m\n",
      "\u001b[32m2025-04-25 09:21:41.736\u001b[0m | \u001b[33m\u001b[1mWARNING \u001b[0m | \u001b[36mditto.writers.opendss.write\u001b[0m:\u001b[36mwrite\u001b[0m:\u001b[36m109\u001b[0m - \u001b[33m\u001b[1mEquipment Mapper LoadEquipmentMapper not found. Skipping\u001b[0m\n",
      "\u001b[32m2025-04-25 09:21:41.737\u001b[0m | \u001b[33m\u001b[1mWARNING \u001b[0m | \u001b[36mditto.writers.opendss.write\u001b[0m:\u001b[36mwrite\u001b[0m:\u001b[36m80\u001b[0m - \u001b[33m\u001b[1mMapper DistributionSolarMapper not found. Skipping\u001b[0m\n",
      "\u001b[32m2025-04-25 09:21:41.737\u001b[0m | \u001b[34m\u001b[1mDEBUG   \u001b[0m | \u001b[36mditto.writers.opendss.write\u001b[0m:\u001b[36mwrite\u001b[0m:\u001b[36m83\u001b[0m - \u001b[34m\u001b[1mMapping components in DistributionTransformerMapper...\u001b[0m\n",
      "\u001b[32m2025-04-25 09:21:41.739\u001b[0m | \u001b[34m\u001b[1mDEBUG   \u001b[0m | \u001b[36mditto.writers.opendss.write\u001b[0m:\u001b[36mwrite\u001b[0m:\u001b[36m83\u001b[0m - \u001b[34m\u001b[1mMapping components in MatrixImpedanceBranchMapper...\u001b[0m\n",
      "\u001b[32m2025-04-25 09:21:41.744\u001b[0m | \u001b[34m\u001b[1mDEBUG   \u001b[0m | \u001b[36mditto.writers.opendss.write\u001b[0m:\u001b[36mwrite\u001b[0m:\u001b[36m83\u001b[0m - \u001b[34m\u001b[1mMapping components in MatrixImpedanceSwitchMapper...\u001b[0m\n"
     ]
    }
   ],
   "source": [
    "from pathlib import Path\n",
    "from ditto.writers.opendss.write import Writer\n",
    "\n",
    "\n",
    "writer = Writer(distribution_system)\n",
    "writer.write(output_path=Path(\".\"), separate_substations=False, separate_feeders=False)"
   ]
  },
  {
   "cell_type": "markdown",
   "metadata": {},
   "source": [
    "\n",
    "In this example, the OpenDSS model contains intentional errors such as missing bus definitions, incorrect syntax for loads, and incorrect capacitor connections. The Python script uses GDM's `GDMReader` to attempt to read the model, which should identify and report these issues.\n"
   ]
  },
  {
   "cell_type": "code",
   "execution_count": null,
   "metadata": {},
   "outputs": [
    {
     "name": "stderr",
     "output_type": "stream",
     "text": [
      "/opt/homebrew/Caskroom/miniconda/base/envs/gdm2/lib/python3.12/site-packages/pydantic/_internal/_generate_schema.py:502: UserWarning: Ellipsis is not a Python type (it may be an instance of an object), Pydantic will allow any object with no validation since we cannot even enforce that the input is an instance of the given type. To get rid of this error wrap the type with `pydantic.SkipValidation`.\n",
      "  warn(\n",
      "\u001b[32m2025-05-01 15:22:26.004\u001b[0m | \u001b[34m\u001b[1mDEBUG   \u001b[0m | \u001b[36mditto.readers.opendss.reader\u001b[0m:\u001b[36m_read\u001b[0m:\u001b[36m61\u001b[0m - \u001b[34m\u001b[1mLoading OpenDSS model.\u001b[0m\n",
      "\u001b[32m2025-05-01 15:22:26.008\u001b[0m | \u001b[34m\u001b[1mDEBUG   \u001b[0m | \u001b[36mditto.readers.opendss.reader\u001b[0m:\u001b[36m_read\u001b[0m:\u001b[36m70\u001b[0m - \u001b[34m\u001b[1mModel loaded from test_circuit/Master.dss.\u001b[0m\n",
      "\u001b[32m2025-05-01 15:22:26.009\u001b[0m | \u001b[34m\u001b[1mDEBUG   \u001b[0m | \u001b[36mditto.readers.opendss.components.buses\u001b[0m:\u001b[36mget_buses\u001b[0m:\u001b[36m22\u001b[0m - \u001b[34m\u001b[1mparsing bus components...\u001b[0m\n",
      "\u001b[32m2025-05-01 15:22:26.010\u001b[0m | \u001b[34m\u001b[1mDEBUG   \u001b[0m | \u001b[36mditto.readers.opendss.components.sources\u001b[0m:\u001b[36mget_voltage_sources\u001b[0m:\u001b[36m88\u001b[0m - \u001b[34m\u001b[1mparsing voltage sources components...\u001b[0m\n",
      "\u001b[32m2025-05-01 15:22:26.011\u001b[0m | \u001b[34m\u001b[1mDEBUG   \u001b[0m | \u001b[36mditto.readers.opendss.components.loadshapes\u001b[0m:\u001b[36mbuild_profiles\u001b[0m:\u001b[36m103\u001b[0m - \u001b[34m\u001b[1mparsing timeseries components...\u001b[0m\n",
      "\u001b[32m2025-05-01 15:22:26.011\u001b[0m | \u001b[34m\u001b[1mDEBUG   \u001b[0m | \u001b[36mditto.readers.opendss.components.capacitors\u001b[0m:\u001b[36mget_capacitors\u001b[0m:\u001b[36m89\u001b[0m - \u001b[34m\u001b[1mparsing capacitor components...\u001b[0m\n",
      "\u001b[32m2025-05-01 15:22:26.012\u001b[0m | \u001b[34m\u001b[1mDEBUG   \u001b[0m | \u001b[36mditto.readers.opendss.components.loads\u001b[0m:\u001b[36mget_loads\u001b[0m:\u001b[36m95\u001b[0m - \u001b[34m\u001b[1mparsing load components...\u001b[0m\n",
      "\u001b[32m2025-05-01 15:22:26.012\u001b[0m | \u001b[34m\u001b[1mDEBUG   \u001b[0m | \u001b[36mditto.readers.opendss.components.pv_systems\u001b[0m:\u001b[36mget_pvsystems\u001b[0m:\u001b[36m83\u001b[0m - \u001b[34m\u001b[1mparsing pvsystem components...\u001b[0m\n",
      "\u001b[32m2025-05-01 15:22:26.012\u001b[0m | \u001b[34m\u001b[1mDEBUG   \u001b[0m | \u001b[36mditto.readers.opendss.components.transformers\u001b[0m:\u001b[36mget_transformer_equipments\u001b[0m:\u001b[36m149\u001b[0m - \u001b[34m\u001b[1mparsing transformer equipment...\u001b[0m\n",
      "\u001b[32m2025-05-01 15:22:26.012\u001b[0m | \u001b[34m\u001b[1mDEBUG   \u001b[0m | \u001b[36mditto.readers.opendss.components.transformers\u001b[0m:\u001b[36mget_transformers\u001b[0m:\u001b[36m182\u001b[0m - \u001b[34m\u001b[1mparsing transformer components...\u001b[0m\n",
      "\u001b[32m2025-05-01 15:22:26.012\u001b[0m | \u001b[34m\u001b[1mDEBUG   \u001b[0m | \u001b[36mditto.readers.opendss.components.conductors\u001b[0m:\u001b[36mget_conductors_equipment\u001b[0m:\u001b[36m16\u001b[0m - \u001b[34m\u001b[1mparsing conductor components...\u001b[0m\n",
      "\u001b[32m2025-05-01 15:22:26.013\u001b[0m | \u001b[34m\u001b[1mDEBUG   \u001b[0m | \u001b[36mditto.readers.opendss.components.cables\u001b[0m:\u001b[36mget_cables_equipment\u001b[0m:\u001b[36m22\u001b[0m - \u001b[34m\u001b[1mparsing cable components...\u001b[0m\n",
      "\u001b[32m2025-05-01 15:22:26.013\u001b[0m | \u001b[34m\u001b[1mDEBUG   \u001b[0m | \u001b[36mditto.readers.opendss.components.branches\u001b[0m:\u001b[36mget_matrix_branch_equipments\u001b[0m:\u001b[36m195\u001b[0m - \u001b[34m\u001b[1mparsing matrix branch equipment...\u001b[0m\n",
      "\u001b[32m2025-05-01 15:22:26.016\u001b[0m | \u001b[34m\u001b[1mDEBUG   \u001b[0m | \u001b[36mditto.readers.opendss.components.branches\u001b[0m:\u001b[36mget_geometry_branch_equipments\u001b[0m:\u001b[36m67\u001b[0m - \u001b[34m\u001b[1mparsing geometry branch equipment...\u001b[0m\n",
      "\u001b[32m2025-05-01 15:22:26.016\u001b[0m | \u001b[34m\u001b[1mDEBUG   \u001b[0m | \u001b[36mditto.readers.opendss.components.branches\u001b[0m:\u001b[36mget_branches\u001b[0m:\u001b[36m263\u001b[0m - \u001b[34m\u001b[1mparsing branch components...\u001b[0m\n",
      "\u001b[32m2025-05-01 15:22:26.017\u001b[0m | \u001b[34m\u001b[1mDEBUG   \u001b[0m | \u001b[36mditto.readers.opendss.components.branches\u001b[0m:\u001b[36mget_branches\u001b[0m:\u001b[36m269\u001b[0m - \u001b[34m\u001b[1mbuilding line Line.line_1...\u001b[0m\n",
      "\u001b[32m2025-05-01 15:22:26.019\u001b[0m | \u001b[34m\u001b[1mDEBUG   \u001b[0m | \u001b[36mditto.readers.opendss.reader\u001b[0m:\u001b[36m_read\u001b[0m:\u001b[36m108\u001b[0m - \u001b[34m\u001b[1mparsing complete...\u001b[0m\n"
     ]
    },
    {
     "data": {
      "text/html": [
       "<pre style=\"white-space:pre;overflow-x:auto;line-height:normal;font-family:Menlo,'DejaVu Sans Mono',consolas,'Courier New',monospace\"><span style=\"font-weight: bold\">System                          </span>\n",
       "┏━━━━━━━━━━━━━━━━━━━━━━┳━━━━━━━┓\n",
       "┃<span style=\"font-weight: bold\"> Property             </span>┃<span style=\"font-weight: bold\"> Value </span>┃\n",
       "┡━━━━━━━━━━━━━━━━━━━━━━╇━━━━━━━┩\n",
       "│ System name          │       │\n",
       "│ Data format version  │ 2.0.0 │\n",
       "│ Components attached  │    10 │\n",
       "│ Time Series attached │     0 │\n",
       "│ Description          │       │\n",
       "└──────────────────────┴───────┘\n",
       "</pre>\n"
      ],
      "text/plain": [
       "\u001b[1mSystem                          \u001b[0m\n",
       "┏━━━━━━━━━━━━━━━━━━━━━━┳━━━━━━━┓\n",
       "┃\u001b[1m \u001b[0m\u001b[1mProperty            \u001b[0m\u001b[1m \u001b[0m┃\u001b[1m \u001b[0m\u001b[1mValue\u001b[0m\u001b[1m \u001b[0m┃\n",
       "┡━━━━━━━━━━━━━━━━━━━━━━╇━━━━━━━┩\n",
       "│ System name          │       │\n",
       "│ Data format version  │ 2.0.0 │\n",
       "│ Components attached  │    10 │\n",
       "│ Time Series attached │     0 │\n",
       "│ Description          │       │\n",
       "└──────────────────────┴───────┘\n"
      ]
     },
     "metadata": {},
     "output_type": "display_data"
    },
    {
     "data": {
      "text/html": [
       "<pre style=\"white-space:pre;overflow-x:auto;line-height:normal;font-family:Menlo,'DejaVu Sans Mono',consolas,'Courier New',monospace\"><span style=\"font-weight: bold\">Component Information                     </span>\n",
       "┏━━━━━━━━━━━━━━━━━━━━━━━━━━━━━━━━┳━━━━━━━┓\n",
       "┃<span style=\"font-weight: bold\"> Type                           </span>┃<span style=\"font-weight: bold\"> Count </span>┃\n",
       "┡━━━━━━━━━━━━━━━━━━━━━━━━━━━━━━━━╇━━━━━━━┩\n",
       "│ DistributionBus                │     2 │\n",
       "│ DistributionVoltageSource      │     1 │\n",
       "│ Location                       │     1 │\n",
       "│ MatrixImpedanceSwitch          │     1 │\n",
       "│ MatrixImpedanceSwitchEquipment │     1 │\n",
       "│ PhaseVoltageSourceEquipment    │     1 │\n",
       "│ VoltageLimitSet                │     2 │\n",
       "│ VoltageSourceEquipment         │     1 │\n",
       "└────────────────────────────────┴───────┘\n",
       "</pre>\n"
      ],
      "text/plain": [
       "\u001b[1mComponent Information                     \u001b[0m\n",
       "┏━━━━━━━━━━━━━━━━━━━━━━━━━━━━━━━━┳━━━━━━━┓\n",
       "┃\u001b[1m \u001b[0m\u001b[1mType                          \u001b[0m\u001b[1m \u001b[0m┃\u001b[1m \u001b[0m\u001b[1mCount\u001b[0m\u001b[1m \u001b[0m┃\n",
       "┡━━━━━━━━━━━━━━━━━━━━━━━━━━━━━━━━╇━━━━━━━┩\n",
       "│ DistributionBus                │     2 │\n",
       "│ DistributionVoltageSource      │     1 │\n",
       "│ Location                       │     1 │\n",
       "│ MatrixImpedanceSwitch          │     1 │\n",
       "│ MatrixImpedanceSwitchEquipment │     1 │\n",
       "│ PhaseVoltageSourceEquipment    │     1 │\n",
       "│ VoltageLimitSet                │     2 │\n",
       "│ VoltageSourceEquipment         │     1 │\n",
       "└────────────────────────────────┴───────┘\n"
      ]
     },
     "metadata": {},
     "output_type": "display_data"
    },
    {
     "name": "stderr",
     "output_type": "stream",
     "text": [
      "\u001b[32m2025-05-01 15:22:26.033\u001b[0m | \u001b[34m\u001b[1mDEBUG   \u001b[0m | \u001b[36mditto.readers.opendss.reader\u001b[0m:\u001b[36m_read\u001b[0m:\u001b[36m109\u001b[0m - \u001b[34m\u001b[1m\n",
      "None\u001b[0m\n",
      "\u001b[32m2025-05-01 15:22:26.033\u001b[0m | \u001b[34m\u001b[1mDEBUG   \u001b[0m | \u001b[36mditto.readers.opendss.reader\u001b[0m:\u001b[36m_read\u001b[0m:\u001b[36m110\u001b[0m - \u001b[34m\u001b[1mBuilding graph...\u001b[0m\n",
      "\u001b[32m2025-05-01 15:22:26.033\u001b[0m | \u001b[34m\u001b[1mDEBUG   \u001b[0m | \u001b[36mditto.readers.opendss.reader\u001b[0m:\u001b[36m_read\u001b[0m:\u001b[36m112\u001b[0m - \u001b[34m\u001b[1mGraph with 2 nodes and 1 edges\u001b[0m\n",
      "\u001b[32m2025-05-01 15:22:26.034\u001b[0m | \u001b[34m\u001b[1mDEBUG   \u001b[0m | \u001b[36mditto.readers.opendss.reader\u001b[0m:\u001b[36m_read\u001b[0m:\u001b[36m113\u001b[0m - \u001b[34m\u001b[1mGraph build complete...\u001b[0m\n",
      "\u001b[32m2025-05-01 15:22:26.034\u001b[0m | \u001b[34m\u001b[1mDEBUG   \u001b[0m | \u001b[36mditto.readers.opendss.reader\u001b[0m:\u001b[36m_read\u001b[0m:\u001b[36m114\u001b[0m - \u001b[34m\u001b[1mUpdating graph to fix split phase representation...\u001b[0m\n",
      "\u001b[32m2025-05-01 15:22:26.034\u001b[0m | \u001b[34m\u001b[1mDEBUG   \u001b[0m | \u001b[36mditto.readers.opendss.reader\u001b[0m:\u001b[36m_read\u001b[0m:\u001b[36m116\u001b[0m - \u001b[34m\u001b[1mSystem update complete...\u001b[0m\n"
     ]
    }
   ],
   "source": [
    "\n",
    "from ditto.readers.opendss.reader import Reader\n",
    "from opendssdirect import dss\n",
    "\n",
    "dss(\"\"\"\n",
    "    clear\n",
    "    new Circuit.test bus1=bus_1.1 BasekV=7.2 pu=1.03 Angle=0.0 Phases=1 Z1=[1e-05, 1e-05] Z0=[1e-05, 1e-05]\n",
    "    new line.line_1  bus1=bus_1.1 bus2=bus_2.2 phases=1\n",
    "    solve\n",
    "\"\"\")\n",
    "dss.Circuit.Save(\"test_circuit\", options=0)\n",
    "\n",
    "reader = Reader(\"test_circuit/Master.dss\")\n",
    "gdm_system = reader.get_system()\n"
   ]
  },
  {
   "cell_type": "code",
   "execution_count": 1,
   "metadata": {},
   "outputs": [
    {
     "name": "stderr",
     "output_type": "stream",
     "text": [
      "/opt/homebrew/Caskroom/miniconda/base/envs/gdm2/lib/python3.12/site-packages/pydantic/_internal/_generate_schema.py:502: UserWarning: Ellipsis is not a Python type (it may be an instance of an object), Pydantic will allow any object with no validation since we cannot even enforce that the input is an instance of the given type. To get rid of this error wrap the type with `pydantic.SkipValidation`.\n",
      "  warn(\n",
      "\u001b[32m2025-05-01 15:23:51.732\u001b[0m | \u001b[34m\u001b[1mDEBUG   \u001b[0m | \u001b[36mditto.readers.opendss.reader\u001b[0m:\u001b[36m_read\u001b[0m:\u001b[36m61\u001b[0m - \u001b[34m\u001b[1mLoading OpenDSS model.\u001b[0m\n",
      "\u001b[32m2025-05-01 15:23:51.737\u001b[0m | \u001b[34m\u001b[1mDEBUG   \u001b[0m | \u001b[36mditto.readers.opendss.reader\u001b[0m:\u001b[36m_read\u001b[0m:\u001b[36m70\u001b[0m - \u001b[34m\u001b[1mModel loaded from test_circuit/Master.dss.\u001b[0m\n",
      "\u001b[32m2025-05-01 15:23:51.738\u001b[0m | \u001b[34m\u001b[1mDEBUG   \u001b[0m | \u001b[36mditto.readers.opendss.components.buses\u001b[0m:\u001b[36mget_buses\u001b[0m:\u001b[36m22\u001b[0m - \u001b[34m\u001b[1mparsing bus components...\u001b[0m\n",
      "\u001b[32m2025-05-01 15:23:51.739\u001b[0m | \u001b[34m\u001b[1mDEBUG   \u001b[0m | \u001b[36mditto.readers.opendss.components.sources\u001b[0m:\u001b[36mget_voltage_sources\u001b[0m:\u001b[36m88\u001b[0m - \u001b[34m\u001b[1mparsing voltage sources components...\u001b[0m\n",
      "\u001b[32m2025-05-01 15:23:51.740\u001b[0m | \u001b[34m\u001b[1mDEBUG   \u001b[0m | \u001b[36mditto.readers.opendss.components.loadshapes\u001b[0m:\u001b[36mbuild_profiles\u001b[0m:\u001b[36m103\u001b[0m - \u001b[34m\u001b[1mparsing timeseries components...\u001b[0m\n",
      "\u001b[32m2025-05-01 15:23:51.741\u001b[0m | \u001b[34m\u001b[1mDEBUG   \u001b[0m | \u001b[36mditto.readers.opendss.components.capacitors\u001b[0m:\u001b[36mget_capacitors\u001b[0m:\u001b[36m89\u001b[0m - \u001b[34m\u001b[1mparsing capacitor components...\u001b[0m\n",
      "\u001b[32m2025-05-01 15:23:51.741\u001b[0m | \u001b[34m\u001b[1mDEBUG   \u001b[0m | \u001b[36mditto.readers.opendss.components.loads\u001b[0m:\u001b[36mget_loads\u001b[0m:\u001b[36m95\u001b[0m - \u001b[34m\u001b[1mparsing load components...\u001b[0m\n",
      "\u001b[32m2025-05-01 15:23:51.741\u001b[0m | \u001b[34m\u001b[1mDEBUG   \u001b[0m | \u001b[36mditto.readers.opendss.components.loadshapes\u001b[0m:\u001b[36mbuild_profiles\u001b[0m:\u001b[36m103\u001b[0m - \u001b[34m\u001b[1mparsing timeseries components...\u001b[0m\n"
     ]
    },
    {
     "ename": "ValidationError",
     "evalue": "1 validation error for DistributionLoad\n  Value error, Loads phases self.phases=[<Phase.A: 'A'>, <Phase.B: 'B'>, <Phase.C: 'C'>] must be subset of bus phases. [<Phase.A: 'A'>, <Phase.B: 'B'>] [type=value_error, input_value={'name': 'load_1', 'bus':...tionType.STAR: 'STAR'>)}, input_type=dict]\n    For further information visit https://errors.pydantic.dev/2.10/v/value_error",
     "output_type": "error",
     "traceback": [
      "\u001b[31m---------------------------------------------------------------------------\u001b[39m",
      "\u001b[31mValidationError\u001b[39m                           Traceback (most recent call last)",
      "\u001b[36mCell\u001b[39m\u001b[36m \u001b[39m\u001b[32mIn[1]\u001b[39m\u001b[32m, line 13\u001b[39m\n\u001b[32m      4\u001b[39m dss(\u001b[33m\"\"\"\u001b[39m\n\u001b[32m      5\u001b[39m \u001b[33mclear\u001b[39m\n\u001b[32m      6\u001b[39m \u001b[33mnew Circuit.test bus1=bus_1.1 BasekV=7.2 pu=1.03 Angle=0.0 Phases=1 Z1=[1e-05, 1e-05] Z0=[1e-05, 1e-05]\u001b[39m\n\u001b[32m   (...)\u001b[39m\u001b[32m      9\u001b[39m \u001b[33msolve\u001b[39m\n\u001b[32m     10\u001b[39m \u001b[33m\"\"\"\u001b[39m)\n\u001b[32m     11\u001b[39m dss.Circuit.Save(\u001b[33m\"\u001b[39m\u001b[33mtest_circuit\u001b[39m\u001b[33m\"\u001b[39m, options=\u001b[32m0\u001b[39m)\n\u001b[32m---> \u001b[39m\u001b[32m13\u001b[39m reader = \u001b[43mReader\u001b[49m\u001b[43m(\u001b[49m\u001b[33;43m\"\u001b[39;49m\u001b[33;43mtest_circuit/Master.dss\u001b[39;49m\u001b[33;43m\"\u001b[39;49m\u001b[43m)\u001b[49m\n",
      "\u001b[36mFile \u001b[39m\u001b[32m~/Documents/GitHub/ditto/src/ditto/readers/opendss/reader.py:47\u001b[39m, in \u001b[36mReader.__init__\u001b[39m\u001b[34m(self, Opendss_master_file, crs)\u001b[39m\n\u001b[32m     45\u001b[39m \u001b[38;5;28mself\u001b[39m.Opendss_master_file = Path(Opendss_master_file)\n\u001b[32m     46\u001b[39m \u001b[38;5;28mself\u001b[39m.crs = crs\n\u001b[32m---> \u001b[39m\u001b[32m47\u001b[39m \u001b[38;5;28;43mself\u001b[39;49m\u001b[43m.\u001b[49m\u001b[43m_read\u001b[49m\u001b[43m(\u001b[49m\u001b[43m)\u001b[49m\n",
      "\u001b[36mFile \u001b[39m\u001b[32m~/Documents/GitHub/ditto/src/ditto/readers/opendss/reader.py:77\u001b[39m, in \u001b[36mReader._read\u001b[39m\u001b[34m(self)\u001b[39m\n\u001b[32m     75\u001b[39m \u001b[38;5;28mself\u001b[39m._add_components(get_voltage_sources(\u001b[38;5;28mself\u001b[39m.system))\n\u001b[32m     76\u001b[39m \u001b[38;5;28mself\u001b[39m._add_components(get_capacitors(\u001b[38;5;28mself\u001b[39m.system))\n\u001b[32m---> \u001b[39m\u001b[32m77\u001b[39m \u001b[38;5;28mself\u001b[39m._add_components(\u001b[43mget_loads\u001b[49m\u001b[43m(\u001b[49m\u001b[38;5;28;43mself\u001b[39;49m\u001b[43m.\u001b[49m\u001b[43msystem\u001b[49m\u001b[43m)\u001b[49m)\n\u001b[32m     78\u001b[39m \u001b[38;5;28mself\u001b[39m._add_components(get_pvsystems(\u001b[38;5;28mself\u001b[39m.system))\n\u001b[32m     79\u001b[39m (\n\u001b[32m     80\u001b[39m     distribution_transformer_equipment_catalog,\n\u001b[32m     81\u001b[39m     winding_equipment_catalog,\n\u001b[32m     82\u001b[39m ) = get_transformer_equipments(\u001b[38;5;28mself\u001b[39m.system)\n",
      "\u001b[36mFile \u001b[39m\u001b[32m~/Documents/GitHub/ditto/src/ditto/readers/opendss/components/loads.py:106\u001b[39m, in \u001b[36mget_loads\u001b[39m\u001b[34m(system)\u001b[39m\n\u001b[32m    104\u001b[39m profile_names = [odd.Loads.Daily(), odd.Loads.Yearly(), odd.Loads.Duty()]\n\u001b[32m    105\u001b[39m profiles = build_profiles(profile_names, ObjectsWithProfile.LOAD, profile_catalog)\n\u001b[32m--> \u001b[39m\u001b[32m106\u001b[39m distribution_load = \u001b[43mDistributionLoad\u001b[49m\u001b[43m(\u001b[49m\n\u001b[32m    107\u001b[39m \u001b[43m    \u001b[49m\u001b[43mname\u001b[49m\u001b[43m=\u001b[49m\u001b[43mload_name\u001b[49m\u001b[43m,\u001b[49m\n\u001b[32m    108\u001b[39m \u001b[43m    \u001b[49m\u001b[43mbus\u001b[49m\u001b[43m=\u001b[49m\u001b[43msystem\u001b[49m\u001b[43m.\u001b[49m\u001b[43mget_component\u001b[49m\u001b[43m(\u001b[49m\u001b[43mDistributionBus\u001b[49m\u001b[43m,\u001b[49m\u001b[43m \u001b[49m\u001b[43mbus1\u001b[49m\u001b[43m)\u001b[49m\u001b[43m,\u001b[49m\n\u001b[32m    109\u001b[39m \u001b[43m    \u001b[49m\u001b[43mphases\u001b[49m\u001b[43m=\u001b[49m\u001b[43m[\u001b[49m\u001b[43mPHASE_MAPPER\u001b[49m\u001b[43m[\u001b[49m\u001b[43mel\u001b[49m\u001b[43m]\u001b[49m\u001b[43m \u001b[49m\u001b[38;5;28;43;01mfor\u001b[39;49;00m\u001b[43m \u001b[49m\u001b[43mel\u001b[49m\u001b[43m \u001b[49m\u001b[38;5;129;43;01min\u001b[39;49;00m\u001b[43m \u001b[49m\u001b[43mnodes\u001b[49m\u001b[43m]\u001b[49m\u001b[43m,\u001b[49m\n\u001b[32m    110\u001b[39m \u001b[43m    \u001b[49m\u001b[43mequipment\u001b[49m\u001b[43m=\u001b[49m\u001b[43mLoadEquipment\u001b[49m\u001b[43m,\u001b[49m\n\u001b[32m    111\u001b[39m \u001b[43m\u001b[49m\u001b[43m)\u001b[49m\n\u001b[32m    112\u001b[39m \u001b[38;5;28;01mfor\u001b[39;00m profile_name \u001b[38;5;129;01min\u001b[39;00m profile_names:\n\u001b[32m    113\u001b[39m     \u001b[38;5;28;01mif\u001b[39;00m profile_name \u001b[38;5;129;01min\u001b[39;00m profiles:\n",
      "\u001b[36mFile \u001b[39m\u001b[32m/opt/homebrew/Caskroom/miniconda/base/envs/gdm2/lib/python3.12/site-packages/pydantic/main.py:214\u001b[39m, in \u001b[36mBaseModel.__init__\u001b[39m\u001b[34m(self, **data)\u001b[39m\n\u001b[32m    212\u001b[39m \u001b[38;5;66;03m# `__tracebackhide__` tells pytest and some other tools to omit this function from tracebacks\u001b[39;00m\n\u001b[32m    213\u001b[39m __tracebackhide__ = \u001b[38;5;28;01mTrue\u001b[39;00m\n\u001b[32m--> \u001b[39m\u001b[32m214\u001b[39m validated_self = \u001b[38;5;28;43mself\u001b[39;49m\u001b[43m.\u001b[49m\u001b[43m__pydantic_validator__\u001b[49m\u001b[43m.\u001b[49m\u001b[43mvalidate_python\u001b[49m\u001b[43m(\u001b[49m\u001b[43mdata\u001b[49m\u001b[43m,\u001b[49m\u001b[43m \u001b[49m\u001b[43mself_instance\u001b[49m\u001b[43m=\u001b[49m\u001b[38;5;28;43mself\u001b[39;49m\u001b[43m)\u001b[49m\n\u001b[32m    215\u001b[39m \u001b[38;5;28;01mif\u001b[39;00m \u001b[38;5;28mself\u001b[39m \u001b[38;5;129;01mis\u001b[39;00m \u001b[38;5;129;01mnot\u001b[39;00m validated_self:\n\u001b[32m    216\u001b[39m     warnings.warn(\n\u001b[32m    217\u001b[39m         \u001b[33m'\u001b[39m\u001b[33mA custom validator is returning a value other than `self`.\u001b[39m\u001b[38;5;130;01m\\n\u001b[39;00m\u001b[33m'\u001b[39m\n\u001b[32m    218\u001b[39m         \u001b[33m\"\u001b[39m\u001b[33mReturning anything other than `self` from a top level model validator isn\u001b[39m\u001b[33m'\u001b[39m\u001b[33mt supported when validating via `__init__`.\u001b[39m\u001b[38;5;130;01m\\n\u001b[39;00m\u001b[33m\"\u001b[39m\n\u001b[32m    219\u001b[39m         \u001b[33m'\u001b[39m\u001b[33mSee the `model_validator` docs (https://docs.pydantic.dev/latest/concepts/validators/#model-validators) for more details.\u001b[39m\u001b[33m'\u001b[39m,\n\u001b[32m    220\u001b[39m         stacklevel=\u001b[32m2\u001b[39m,\n\u001b[32m    221\u001b[39m     )\n",
      "\u001b[31mValidationError\u001b[39m: 1 validation error for DistributionLoad\n  Value error, Loads phases self.phases=[<Phase.A: 'A'>, <Phase.B: 'B'>, <Phase.C: 'C'>] must be subset of bus phases. [<Phase.A: 'A'>, <Phase.B: 'B'>] [type=value_error, input_value={'name': 'load_1', 'bus':...tionType.STAR: 'STAR'>)}, input_type=dict]\n    For further information visit https://errors.pydantic.dev/2.10/v/value_error"
     ]
    }
   ],
   "source": [
    "from ditto.readers.opendss.reader import Reader\n",
    "from opendssdirect import dss\n",
    "\n",
    "dss(\"\"\"\n",
    "clear\n",
    "new Circuit.test bus1=bus_1.1 BasekV=7.2 pu=1.03 Angle=0.0 Phases=1 Z1=[1e-05, 1e-05] Z0=[1e-05, 1e-05]\n",
    "new line.line_1  bus1=bus_1.1 bus2=bus_2.1 phases=1\n",
    "new load.load_1  bus=bus_2.1.2.3 phases=1\n",
    "solve\n",
    "\"\"\")\n",
    "dss.Circuit.Save(\"test_circuit\", options=0)\n",
    "\n",
    "reader = Reader(\"test_circuit/Master.dss\")\n"
   ]
  },
  {
   "cell_type": "markdown",
   "metadata": {},
   "source": [
    "## Validation Summary Via Monkey Patching"
   ]
  },
  {
   "cell_type": "code",
   "execution_count": null,
   "metadata": {},
   "outputs": [
    {
     "name": "stderr",
     "output_type": "stream",
     "text": [
      "/opt/homebrew/Caskroom/miniconda/base/envs/gdm2/lib/python3.12/site-packages/pydantic/_internal/_generate_schema.py:502: UserWarning: Ellipsis is not a Python type (it may be an instance of an object), Pydantic will allow any object with no validation since we cannot even enforce that the input is an instance of the given type. To get rid of this error wrap the type with `pydantic.SkipValidation`.\n",
      "  warn(\n",
      "\u001b[32m2025-05-01 15:31:27.533\u001b[0m | \u001b[34m\u001b[1mDEBUG   \u001b[0m | \u001b[36mditto.readers.opendss.reader\u001b[0m:\u001b[36m_read\u001b[0m:\u001b[36m61\u001b[0m - \u001b[34m\u001b[1mLoading OpenDSS model.\u001b[0m\n",
      "\u001b[32m2025-05-01 15:31:27.537\u001b[0m | \u001b[34m\u001b[1mDEBUG   \u001b[0m | \u001b[36mditto.readers.opendss.reader\u001b[0m:\u001b[36m_read\u001b[0m:\u001b[36m70\u001b[0m - \u001b[34m\u001b[1mModel loaded from test_circuit/Master.dss.\u001b[0m\n",
      "\u001b[32m2025-05-01 15:31:27.537\u001b[0m | \u001b[34m\u001b[1mDEBUG   \u001b[0m | \u001b[36mditto.readers.opendss.components.buses\u001b[0m:\u001b[36mget_buses\u001b[0m:\u001b[36m22\u001b[0m - \u001b[34m\u001b[1mparsing bus components...\u001b[0m\n",
      "\u001b[32m2025-05-01 15:31:27.539\u001b[0m | \u001b[34m\u001b[1mDEBUG   \u001b[0m | \u001b[36mditto.readers.opendss.components.sources\u001b[0m:\u001b[36mget_voltage_sources\u001b[0m:\u001b[36m88\u001b[0m - \u001b[34m\u001b[1mparsing voltage sources components...\u001b[0m\n",
      "\u001b[32m2025-05-01 15:31:27.540\u001b[0m | \u001b[34m\u001b[1mDEBUG   \u001b[0m | \u001b[36mditto.readers.opendss.components.loadshapes\u001b[0m:\u001b[36mbuild_profiles\u001b[0m:\u001b[36m103\u001b[0m - \u001b[34m\u001b[1mparsing timeseries components...\u001b[0m\n",
      "\u001b[32m2025-05-01 15:31:27.540\u001b[0m | \u001b[34m\u001b[1mDEBUG   \u001b[0m | \u001b[36mditto.readers.opendss.components.capacitors\u001b[0m:\u001b[36mget_capacitors\u001b[0m:\u001b[36m89\u001b[0m - \u001b[34m\u001b[1mparsing capacitor components...\u001b[0m\n",
      "\u001b[32m2025-05-01 15:31:27.540\u001b[0m | \u001b[34m\u001b[1mDEBUG   \u001b[0m | \u001b[36mditto.readers.opendss.components.loads\u001b[0m:\u001b[36mget_loads\u001b[0m:\u001b[36m95\u001b[0m - \u001b[34m\u001b[1mparsing load components...\u001b[0m\n",
      "\u001b[32m2025-05-01 15:31:27.541\u001b[0m | \u001b[34m\u001b[1mDEBUG   \u001b[0m | \u001b[36mditto.readers.opendss.components.pv_systems\u001b[0m:\u001b[36mget_pvsystems\u001b[0m:\u001b[36m83\u001b[0m - \u001b[34m\u001b[1mparsing pvsystem components...\u001b[0m\n",
      "\u001b[32m2025-05-01 15:31:27.541\u001b[0m | \u001b[34m\u001b[1mDEBUG   \u001b[0m | \u001b[36mditto.readers.opendss.components.transformers\u001b[0m:\u001b[36mget_transformer_equipments\u001b[0m:\u001b[36m149\u001b[0m - \u001b[34m\u001b[1mparsing transformer equipment...\u001b[0m\n",
      "\u001b[32m2025-05-01 15:31:27.541\u001b[0m | \u001b[34m\u001b[1mDEBUG   \u001b[0m | \u001b[36mditto.readers.opendss.components.transformers\u001b[0m:\u001b[36mget_transformers\u001b[0m:\u001b[36m182\u001b[0m - \u001b[34m\u001b[1mparsing transformer components...\u001b[0m\n",
      "\u001b[32m2025-05-01 15:31:27.541\u001b[0m | \u001b[34m\u001b[1mDEBUG   \u001b[0m | \u001b[36mditto.readers.opendss.components.conductors\u001b[0m:\u001b[36mget_conductors_equipment\u001b[0m:\u001b[36m16\u001b[0m - \u001b[34m\u001b[1mparsing conductor components...\u001b[0m\n",
      "\u001b[32m2025-05-01 15:31:27.541\u001b[0m | \u001b[34m\u001b[1mDEBUG   \u001b[0m | \u001b[36mditto.readers.opendss.components.cables\u001b[0m:\u001b[36mget_cables_equipment\u001b[0m:\u001b[36m22\u001b[0m - \u001b[34m\u001b[1mparsing cable components...\u001b[0m\n",
      "\u001b[32m2025-05-01 15:31:27.541\u001b[0m | \u001b[34m\u001b[1mDEBUG   \u001b[0m | \u001b[36mditto.readers.opendss.components.branches\u001b[0m:\u001b[36mget_matrix_branch_equipments\u001b[0m:\u001b[36m195\u001b[0m - \u001b[34m\u001b[1mparsing matrix branch equipment...\u001b[0m\n",
      "\u001b[32m2025-05-01 15:31:27.545\u001b[0m | \u001b[34m\u001b[1mDEBUG   \u001b[0m | \u001b[36mditto.readers.opendss.components.branches\u001b[0m:\u001b[36mget_geometry_branch_equipments\u001b[0m:\u001b[36m67\u001b[0m - \u001b[34m\u001b[1mparsing geometry branch equipment...\u001b[0m\n",
      "\u001b[32m2025-05-01 15:31:27.545\u001b[0m | \u001b[34m\u001b[1mDEBUG   \u001b[0m | \u001b[36mditto.readers.opendss.components.branches\u001b[0m:\u001b[36mget_branches\u001b[0m:\u001b[36m263\u001b[0m - \u001b[34m\u001b[1mparsing branch components...\u001b[0m\n",
      "\u001b[32m2025-05-01 15:31:27.546\u001b[0m | \u001b[34m\u001b[1mDEBUG   \u001b[0m | \u001b[36mditto.readers.opendss.components.branches\u001b[0m:\u001b[36mget_branches\u001b[0m:\u001b[36m269\u001b[0m - \u001b[34m\u001b[1mbuilding line Line.line_1...\u001b[0m\n",
      "\u001b[32m2025-05-01 15:31:27.548\u001b[0m | \u001b[34m\u001b[1mDEBUG   \u001b[0m | \u001b[36mditto.readers.opendss.components.branches\u001b[0m:\u001b[36mget_branches\u001b[0m:\u001b[36m269\u001b[0m - \u001b[34m\u001b[1mbuilding line Line.line_2...\u001b[0m\n"
     ]
    },
    {
     "ename": "AssertionError",
     "evalue": "Distance (-10.0, m) must be positive.",
     "output_type": "error",
     "traceback": [
      "\u001b[31m---------------------------------------------------------------------------\u001b[39m",
      "\u001b[31mAssertionError\u001b[39m                            Traceback (most recent call last)",
      "\u001b[36mCell\u001b[39m\u001b[36m \u001b[39m\u001b[32mIn[1]\u001b[39m\u001b[32m, line 44\u001b[39m\n\u001b[32m     35\u001b[39m dss(\u001b[33m\"\"\"\u001b[39m\n\u001b[32m     36\u001b[39m \u001b[33m    clear\u001b[39m\n\u001b[32m     37\u001b[39m \u001b[33m    new Circuit.test bus1=bus_1.1 BasekV=7.2 pu=1.03 Angle=0.0 Phases=1 Z1=[1e-05, 1e-05] Z0=[1e-05, 1e-05]\u001b[39m\n\u001b[32m   (...)\u001b[39m\u001b[32m     40\u001b[39m \u001b[33m    solve\u001b[39m\n\u001b[32m     41\u001b[39m \u001b[33m\"\"\"\u001b[39m)\n\u001b[32m     42\u001b[39m dss.Circuit.Save(\u001b[33m\"\u001b[39m\u001b[33mtest_circuit\u001b[39m\u001b[33m\"\u001b[39m, options=\u001b[32m0\u001b[39m)\n\u001b[32m---> \u001b[39m\u001b[32m44\u001b[39m reader = \u001b[43mReader\u001b[49m\u001b[43m(\u001b[49m\u001b[33;43m\"\u001b[39;49m\u001b[33;43mtest_circuit/Master.dss\u001b[39;49m\u001b[33;43m\"\u001b[39;49m\u001b[43m)\u001b[49m\n\u001b[32m     46\u001b[39m \u001b[38;5;28;01mif\u001b[39;00m validation_errors:\n\u001b[32m     47\u001b[39m     error_table = Table(title=\u001b[33m\"\u001b[39m\u001b[33mValidation warning summary\u001b[39m\u001b[33m\"\u001b[39m)\n",
      "\u001b[36mFile \u001b[39m\u001b[32m~/Documents/GitHub/ditto/src/ditto/readers/opendss/reader.py:47\u001b[39m, in \u001b[36mReader.__init__\u001b[39m\u001b[34m(self, Opendss_master_file, crs)\u001b[39m\n\u001b[32m     45\u001b[39m \u001b[38;5;28mself\u001b[39m.Opendss_master_file = Path(Opendss_master_file)\n\u001b[32m     46\u001b[39m \u001b[38;5;28mself\u001b[39m.crs = crs\n\u001b[32m---> \u001b[39m\u001b[32m47\u001b[39m \u001b[38;5;28;43mself\u001b[39;49m\u001b[43m.\u001b[49m\u001b[43m_read\u001b[49m\u001b[43m(\u001b[49m\u001b[43m)\u001b[49m\n",
      "\u001b[36mFile \u001b[39m\u001b[32m~/Documents/GitHub/ditto/src/ditto/readers/opendss/reader.py:99\u001b[39m, in \u001b[36mReader._read\u001b[39m\u001b[34m(self)\u001b[39m\n\u001b[32m     95\u001b[39m geometry_branch_equipment_catalog, mapped_geometry = get_geometry_branch_equipments(\n\u001b[32m     96\u001b[39m     \u001b[38;5;28mself\u001b[39m.system\n\u001b[32m     97\u001b[39m )\n\u001b[32m     98\u001b[39m \u001b[38;5;28mself\u001b[39m._add_components(geometry_branch_equipment_catalog.values())\n\u001b[32m---> \u001b[39m\u001b[32m99\u001b[39m branches = \u001b[43mget_branches\u001b[49m\u001b[43m(\u001b[49m\n\u001b[32m    100\u001b[39m \u001b[43m    \u001b[49m\u001b[38;5;28;43mself\u001b[39;49m\u001b[43m.\u001b[49m\u001b[43msystem\u001b[49m\u001b[43m,\u001b[49m\n\u001b[32m    101\u001b[39m \u001b[43m    \u001b[49m\u001b[43mmapped_geometry\u001b[49m\u001b[43m,\u001b[49m\n\u001b[32m    102\u001b[39m \u001b[43m    \u001b[49m\u001b[43mgeometry_branch_equipment_catalog\u001b[49m\u001b[43m,\u001b[49m\n\u001b[32m    103\u001b[39m \u001b[43m    \u001b[49m\u001b[43mmatrix_branch_equipments_catalog\u001b[49m\u001b[43m,\u001b[49m\n\u001b[32m    104\u001b[39m \u001b[43m    \u001b[49m\u001b[43mthermal_limit_catalog\u001b[49m\u001b[43m,\u001b[49m\n\u001b[32m    105\u001b[39m \u001b[43m\u001b[49m\u001b[43m)\u001b[49m\n\u001b[32m    106\u001b[39m \u001b[38;5;28mself\u001b[39m._add_components(branches)\n\u001b[32m    108\u001b[39m logger.debug(\u001b[33m\"\u001b[39m\u001b[33mparsing complete...\u001b[39m\u001b[33m\"\u001b[39m)\n",
      "\u001b[36mFile \u001b[39m\u001b[32m~/Documents/GitHub/ditto/src/ditto/readers/opendss/components/branches.py:335\u001b[39m, in \u001b[36mget_branches\u001b[39m\u001b[34m(system, mapping, geometry_branch_equipment_catalog, matrix_branch_equipments_catalog, thermal_limit_catalog)\u001b[39m\n\u001b[32m    318\u001b[39m equipment = _build_matrix_branch(\n\u001b[32m    319\u001b[39m     MatrixBranchTypes.LINE.value,\n\u001b[32m    320\u001b[39m     matrix_branch_equipments_catalog,\n\u001b[32m   (...)\u001b[39m\u001b[32m    324\u001b[39m     recloser,\n\u001b[32m    325\u001b[39m )\n\u001b[32m    326\u001b[39m equipment = get_equipment_from_catalog(\n\u001b[32m    327\u001b[39m     equipment, matrix_branch_equipments_catalog, equipment_class.\u001b[34m__name__\u001b[39m\n\u001b[32m    328\u001b[39m )\n\u001b[32m    329\u001b[39m model_dict = {\n\u001b[32m    330\u001b[39m     \u001b[33m\"\u001b[39m\u001b[33mname\u001b[39m\u001b[33m\"\u001b[39m: odd.Lines.Name().lower(),\n\u001b[32m    331\u001b[39m     \u001b[33m\"\u001b[39m\u001b[33mbuses\u001b[39m\u001b[33m\"\u001b[39m: [\n\u001b[32m    332\u001b[39m         system.get_component(DistributionBus, bus1),\n\u001b[32m    333\u001b[39m         system.get_component(DistributionBus, bus2),\n\u001b[32m    334\u001b[39m     ],\n\u001b[32m--> \u001b[39m\u001b[32m335\u001b[39m     \u001b[33m\"\u001b[39m\u001b[33mlength\u001b[39m\u001b[33m\"\u001b[39m: \u001b[43mPositiveDistance\u001b[49m\u001b[43m(\u001b[49m\u001b[43modd\u001b[49m\u001b[43m.\u001b[49m\u001b[43mLines\u001b[49m\u001b[43m.\u001b[49m\u001b[43mLength\u001b[49m\u001b[43m(\u001b[49m\u001b[43m)\u001b[49m\u001b[43m,\u001b[49m\u001b[43m \u001b[49m\u001b[43mUNIT_MAPPER\u001b[49m\u001b[43m[\u001b[49m\u001b[43modd\u001b[49m\u001b[43m.\u001b[49m\u001b[43mLines\u001b[49m\u001b[43m.\u001b[49m\u001b[43mUnits\u001b[49m\u001b[43m(\u001b[49m\u001b[43m)\u001b[49m\u001b[43m]\u001b[49m\u001b[43m)\u001b[49m,\n\u001b[32m    336\u001b[39m     \u001b[33m\"\u001b[39m\u001b[33mphases\u001b[39m\u001b[33m\"\u001b[39m: [PHASE_MAPPER[node] \u001b[38;5;28;01mfor\u001b[39;00m node \u001b[38;5;129;01min\u001b[39;00m nodes],\n\u001b[32m    337\u001b[39m     \u001b[33m\"\u001b[39m\u001b[33mequipment\u001b[39m\u001b[33m\"\u001b[39m: equipment,\n\u001b[32m    338\u001b[39m }\n\u001b[32m    339\u001b[39m \u001b[38;5;28;01mif\u001b[39;00m model_class \u001b[38;5;129;01min\u001b[39;00m [MatrixImpedanceSwitch, MatrixImpedanceFuse]:\n\u001b[32m    340\u001b[39m     model_dict[\u001b[33m\"\u001b[39m\u001b[33mis_closed\u001b[39m\u001b[33m\"\u001b[39m] = [\n\u001b[32m    341\u001b[39m         \u001b[38;5;129;01mnot\u001b[39;00m (odd.CktElement.IsOpen(\u001b[32m1\u001b[39m, node + \u001b[32m1\u001b[39m) \u001b[38;5;129;01mor\u001b[39;00m odd.CktElement.IsOpen(\u001b[32m2\u001b[39m, node + \u001b[32m1\u001b[39m))\n\u001b[32m    342\u001b[39m         \u001b[38;5;28;01mfor\u001b[39;00m node \u001b[38;5;129;01min\u001b[39;00m \u001b[38;5;28mrange\u001b[39m(\u001b[38;5;28mlen\u001b[39m(nodes))\n\u001b[32m    343\u001b[39m     ]\n",
      "\u001b[36mFile \u001b[39m\u001b[32m~/Documents/GitHub/grid-data-models/src/gdm/quantities.py:180\u001b[39m, in \u001b[36mPositiveDistance.__init__\u001b[39m\u001b[34m(self, value, units, **kwargs)\u001b[39m\n\u001b[32m    179\u001b[39m \u001b[38;5;28;01mdef\u001b[39;00m\u001b[38;5;250m \u001b[39m\u001b[34m__init__\u001b[39m(\u001b[38;5;28mself\u001b[39m, value, units, **kwargs):\n\u001b[32m--> \u001b[39m\u001b[32m180\u001b[39m     \u001b[38;5;28;01massert\u001b[39;00m \u001b[38;5;28mall\u001b[39m(\n\u001b[32m    181\u001b[39m         np.array(value).flatten() >= \u001b[32m0\u001b[39m\n\u001b[32m    182\u001b[39m     ), \u001b[33mf\u001b[39m\u001b[33m\"\u001b[39m\u001b[33mDistance (\u001b[39m\u001b[38;5;132;01m{\u001b[39;00mvalue\u001b[38;5;132;01m}\u001b[39;00m\u001b[33m, \u001b[39m\u001b[38;5;132;01m{\u001b[39;00munits\u001b[38;5;132;01m}\u001b[39;00m\u001b[33m) must be positive.\u001b[39m\u001b[33m\"\u001b[39m\n",
      "\u001b[31mAssertionError\u001b[39m: Distance (-10.0, m) must be positive."
     ]
    }
   ],
   "source": [
    "from pydantic import ValidationError\n",
    "from rich.console import Console\n",
    "from infrasys import Component\n",
    "from rich.table import Table\n",
    "\n",
    "validation_errors = []\n",
    "_original_init = Component.__init__\n",
    "def patched_init(self, *args, **kwargs):\n",
    "    try:\n",
    "        _original_init(self, *args, **kwargs)\n",
    "    except ValidationError as e:\n",
    "        for error in e.errors():   \n",
    "            validation_errors.append([\n",
    "                kwargs['name'],\n",
    "                self.__class__.__name__,\n",
    "                error['loc'] if error['loc'] else \"On model validation\",\n",
    "                error['type'],\n",
    "                error['msg']\n",
    "            ]) \n",
    "\n",
    "\n",
    "Component.__init__ = patched_init\n",
    "\n",
    "from ditto.readers.opendss.reader import Reader\n",
    "from opendssdirect import dss\n",
    "\n",
    "dss(\"\"\"\n",
    "    clear\n",
    "    new Circuit.test bus1=bus_1.1 BasekV=7.2 pu=1.03 Angle=0.0 Phases=1 Z1=[1e-05, 1e-05] Z0=[1e-05, 1e-05]\n",
    "    new line.line_1  bus1=bus_1.1 bus2=bus_2.2 phases=3\n",
    "    new line.line_2  bus1=bus_1.1 bus2=bus_2.1 length=-10\n",
    "    solve\n",
    "\"\"\")\n",
    "dss.Circuit.Save(\"test_circuit\", options=0)\n",
    "\n",
    "reader = Reader(\"test_circuit/Master.dss\")\n",
    "\n",
    "if validation_errors:\n",
    "    error_table = Table(title=\"Validation warning summary\")\n",
    "    error_table.add_column(\"Model\", justify=\"right\", style=\"cyan\", no_wrap=True)\n",
    "    error_table.add_column(\"Type\", style=\"green\")\n",
    "    error_table.add_column(\"Field\", justify=\"right\", style=\"bright_magenta\")\n",
    "    error_table.add_column(\"Error\", style=\"bright_red\")\n",
    "    error_table.add_column(\"Message\", justify=\"right\", style=\"turquoise2\")\n",
    "\n",
    "    for row in validation_errors:\n",
    "        error_table.add_row(*row)\n",
    "    \n",
    "    console = Console()\n",
    "    console.print(error_table)\n",
    "\n",
    "    raise Exception(f\"Validations errors occured when running the script. See the table above\")\n"
   ]
  },
  {
   "cell_type": "code",
   "execution_count": null,
   "metadata": {},
   "outputs": [],
   "source": []
  }
 ],
 "metadata": {
  "kernelspec": {
   "display_name": "gdm2",
   "language": "python",
   "name": "python3"
  },
  "language_info": {
   "codemirror_mode": {
    "name": "ipython",
    "version": 3
   },
   "file_extension": ".py",
   "mimetype": "text/x-python",
   "name": "python",
   "nbconvert_exporter": "python",
   "pygments_lexer": "ipython3",
   "version": "3.12.0"
  },
  "widgets": {
   "application/vnd.jupyter.widget-state+json": {
    "state": {},
    "version_major": 2,
    "version_minor": 0
   }
  }
 },
 "nbformat": 4,
 "nbformat_minor": 4
}
