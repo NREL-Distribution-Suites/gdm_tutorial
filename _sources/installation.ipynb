{
 "cells": [
  {
   "cell_type": "markdown",
   "metadata": {},
   "source": [
    "# Installing Dependencies\n",
    "\n",
    "Before getting started with the tutorial, you’ll need to install a couple of Python packages that provide the core functionality and supporting tools for working with Grid Data Models (GDM).\n",
    "\n",
    "**grid-data-models** – This is the primary package that provides the foundational data models and validation logic used throughout the tutorial. It includes the Pydantic-based model definitions, unit handling via pint, time series support, connectivity validation, and integration with the graph analysis tool NetworkX.\n",
    "\n",
    "**gdmloader** – This is a helper package designed to simplify the process of downloading and loading example distribution system models into your workspace. It provides convenient functions for retrieving prebuilt test cases, allowing you to focus on using the models rather than building them from scratch.\n",
    "\n",
    "Make sure to install both packages in your Python environment before proceeding with the tutorial."
   ]
  },
  {
   "cell_type": "code",
   "execution_count": 1,
   "metadata": {
    "vscode": {
     "languageId": "shellscript"
    }
   },
   "outputs": [
    {
     "name": "stdout",
     "output_type": "stream",
     "text": [
      "Defaulting to user installation because normal site-packages is not writeable\n",
      "Note: you may need to restart the kernel to use updated packages.\n"
     ]
    },
    {
     "name": "stderr",
     "output_type": "stream",
     "text": [
      "ERROR: Ignored the following versions that require a different python version: 0.0.0 Requires-Python >=3.11; 0.1.0 Requires-Python >=3.11; 0.1.1 Requires-Python >=3.11; 0.1.2 Requires-Python >=3.11; 0.2.0 Requires-Python >=3.11; 0.3.0 Requires-Python >=3.11; 1.0.0 Requires-Python >=3.11; 1.1.0 Requires-Python >=3.11; 1.1.1 Requires-Python >=3.11; 1.1.2 Requires-Python >=3.11; 1.1.3 Requires-Python >=3.11; 1.2.0 Requires-Python >=3.11; 1.3.0 Requires-Python >=3.11; 1.3.1 Requires-Python >=3.11; 1.3.2 Requires-Python >=3.11; 1.3.3 Requires-Python >=3.11; 1.4.0 Requires-Python >=3.11; 1.4.2 Requires-Python >=3.11; 1.4.3 Requires-Python >=3.11; 1.4.4 Requires-Python >=3.11; 1.4.5 Requires-Python >=3.11; 2.0.0 Requires-Python >=3.11; 2.0.1 Requires-Python >=3.11\n",
      "ERROR: Could not find a version that satisfies the requirement grid-data-models (from versions: none)\n",
      "ERROR: No matching distribution found for grid-data-models\n",
      "\n",
      "[notice] A new release of pip is available: 24.0 -> 25.1.1\n",
      "[notice] To update, run: python.exe -m pip install --upgrade pip\n"
     ]
    }
   ],
   "source": [
    "pip install grid-data-models gdmloader"
   ]
  }
 ],
 "metadata": {
  "kernelspec": {
   "display_name": "base",
   "language": "python",
   "name": "python3"
  },
  "language_info": {
   "codemirror_mode": {
    "name": "ipython",
    "version": 3
   },
   "file_extension": ".py",
   "mimetype": "text/x-python",
   "name": "python",
   "nbconvert_exporter": "python",
   "pygments_lexer": "ipython3",
   "version": "3.9.13"
  },
  "widgets": {
   "application/vnd.jupyter.widget-state+json": {
    "state": {},
    "version_major": 2,
    "version_minor": 0
   }
  }
 },
 "nbformat": 4,
 "nbformat_minor": 4
}
